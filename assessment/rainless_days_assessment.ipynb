{
 "cells": [
  {
   "cell_type": "markdown",
   "metadata": {
    "collapsed": true
   },
   "source": [
    "### Assessing suitable days: rainless days"
   ]
  },
  {
   "cell_type": "code",
   "execution_count": 1,
   "metadata": {
    "collapsed": true
   },
   "outputs": [],
   "source": [
    "import matplotlib\n",
    "import numpy as np\n",
    "import matplotlib.pyplot as plt\n",
    "%matplotlib inline\n",
    "import csv\n",
    "import bisect\n",
    "import datetime\n",
    "from scipy import interpolate\n",
    "from matplotlib.dates import DateFormatter\n",
    "\n",
    "# User defined functions\n",
    "from load_precip_irrad_from_csv import *"
   ]
  },
  {
   "cell_type": "markdown",
   "metadata": {},
   "source": [
    "#### Import Data"
   ]
  },
  {
   "cell_type": "code",
   "execution_count": 2,
   "metadata": {
    "collapsed": true
   },
   "outputs": [],
   "source": [
    "day = '2018-10-12'   # select day of observation ('2018-10-12' : camera 2, sw-vers. 3)\n",
    "s_time = ' 07:00:00' # beginning of observation\n",
    "e_time = ' 20:00:00' # end of observation\n",
    "start = day + s_time\n",
    "end   = day + e_time"
   ]
  },
  {
   "cell_type": "markdown",
   "metadata": {},
   "source": [
    "#### Import Precipitation"
   ]
  },
  {
   "cell_type": "code",
   "execution_count": 8,
   "metadata": {},
   "outputs": [
    {
     "data": {
      "text/plain": [
       "datetime\n",
       "2017-01-01 01:00:00+01:00    0.0\n",
       "2017-01-02 01:00:00+01:00    3.9\n",
       "Freq: D, Name: rka150d0, dtype: float64"
      ]
     },
     "execution_count": 8,
     "metadata": {},
     "output_type": "execute_result"
    }
   ],
   "source": [
    "luz_precip = r'precipitation_luz_2017_2018.csv'\n",
    "\n",
    "df_lu_p = process_LUZ_Precip(luz_precip)\n",
    "df_lu_p.set_index(df_lu_p.datetime, inplace=True)\n",
    "df_precip = df_lu_p['rka150d0']       # daily precipitaion in mm \n",
    "#lu_rad = df.loc[start:end]   # set distinct observation day\n",
    "#lu_rad.to_csv('lu_rad.csv')\n",
    "\n",
    "#lu_rad.dtypes\n",
    "#lu_rad.index.min()\n",
    "#lu_rad.index.max()\n",
    "\n",
    "df_precip.head(n=2)"
   ]
  },
  {
   "cell_type": "markdown",
   "metadata": {},
   "source": [
    "#### import Irradiation"
   ]
  },
  {
   "cell_type": "code",
   "execution_count": 9,
   "metadata": {},
   "outputs": [
    {
     "data": {
      "text/plain": [
       "datetime\n",
       "2017-01-01 01:00:00+01:00    0.0\n",
       "2017-01-01 01:10:00+01:00    0.0\n",
       "Freq: 10T, Name: gre000z0, dtype: float64"
      ]
     },
     "execution_count": 9,
     "metadata": {},
     "output_type": "execute_result"
    }
   ],
   "source": [
    "luz_irrad = r'irradiation_luz_2017_2018.csv'\n",
    "\n",
    "df_lu_i = process_LUZ_Irrad(luz_irrad)\n",
    "df_lu_i.set_index(df_lu_i.datetime, inplace=True)\n",
    "df_irrad = df_lu_i['gre000z0']       # 10 min mean in W/m² \n",
    "#lu_rad = df.loc[start:end]   # set distinct observation day\n",
    "#lu_rad.to_csv('lu_rad.csv')\n",
    "\n",
    "#lu_rad.dtypes\n",
    "#lu_rad.index.min()\n",
    "#lu_rad.index.max()\n",
    "\n",
    "df_irrad.head(n=2)"
   ]
  },
  {
   "cell_type": "code",
   "execution_count": null,
   "metadata": {
    "collapsed": true
   },
   "outputs": [],
   "source": []
  }
 ],
 "metadata": {
  "kernelspec": {
   "display_name": "Python 3",
   "language": "python",
   "name": "python3"
  },
  "language_info": {
   "codemirror_mode": {
    "name": "ipython",
    "version": 3
   },
   "file_extension": ".py",
   "mimetype": "text/x-python",
   "name": "python",
   "nbconvert_exporter": "python",
   "pygments_lexer": "ipython3",
   "version": "3.6.2"
  }
 },
 "nbformat": 4,
 "nbformat_minor": 1
}
