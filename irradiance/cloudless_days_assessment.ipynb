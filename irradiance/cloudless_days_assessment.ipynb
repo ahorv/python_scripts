{
 "cells": [
  {
   "cell_type": "markdown",
   "metadata": {
    "collapsed": true
   },
   "source": [
    "### Assessing cloudless days: clear sky days "
   ]
  },
  {
   "cell_type": "code",
   "execution_count": 1,
   "metadata": {
    "collapsed": true
   },
   "outputs": [],
   "source": [
    "import matplotlib\n",
    "import numpy as np\n",
    "import matplotlib.dates as mdates\n",
    "import matplotlib.pyplot as plt\n",
    "#%matplotlib notebook\n",
    "%matplotlib inline\n",
    "import csv\n",
    "import bisect\n",
    "from matplotlib import dates\n",
    "from datetime import datetime\n",
    "from scipy import interpolate\n",
    "from matplotlib.dates import DateFormatter\n",
    "\n",
    "# User defined functions\n",
    "from load_data_from_csv import *"
   ]
  },
  {
   "cell_type": "markdown",
   "metadata": {},
   "source": [
    "#### Import weather station data from Luzern Switzerland"
   ]
  },
  {
   "cell_type": "code",
   "execution_count": 2,
   "metadata": {},
   "outputs": [],
   "source": [
    "irad_csv = r'irradiation_luz_2017_2018.csv'\n",
    "\n",
    "df = process_LUZ(irad_csv)\n",
    "df.set_index(df.datetime, inplace=True)\n",
    "lu_rad = df['gre000z0']          # 10 min mean in W/m² \n",
    "\n",
    "#lu_rad.head(n=2)"
   ]
  },
  {
   "cell_type": "markdown",
   "metadata": {},
   "source": [
    "#### Import  sunshine duration, daily sum"
   ]
  },
  {
   "cell_type": "code",
   "execution_count": 3,
   "metadata": {},
   "outputs": [],
   "source": [
    "dur_csv = r'sunshine_duration_2017_2018.csv'\n",
    "\n",
    "df = process_LUZ_dur(dur_csv)\n",
    "df.set_index(df.datetime, inplace=True)\n",
    "df['su2000d0'] = pd.to_numeric(df['su2000d0'], errors='coerce')\n",
    "lu_dur = df['su2000d0']          # in hours"
   ]
  },
  {
   "cell_type": "markdown",
   "metadata": {},
   "source": [
    "#### Import sunshine duration, relative to the absolute possible daily sum"
   ]
  },
  {
   "cell_type": "code",
   "execution_count": 4,
   "metadata": {
    "collapsed": true
   },
   "outputs": [],
   "source": [
    "dur_csv = r'sunshine_duration_2017_2018.csv'\n",
    "\n",
    "df = process_LUZ_dur(dur_csv)\n",
    "df.set_index(df.datetime, inplace=True)\n",
    "df['sremaxdv'] = pd.to_numeric(df['sremaxdv'], errors='coerce')\n",
    "lu_rel_dur = df['sremaxdv']          # in %"
   ]
  },
  {
   "cell_type": "markdown",
   "metadata": {},
   "source": [
    "## Farben:\n",
    "'b'\n",
    "'g'\n",
    "'r'\n",
    "'c'\n",
    "'m'\n",
    "'y'\n",
    "'k'\n",
    "'w'"
   ]
  },
  {
   "cell_type": "markdown",
   "metadata": {},
   "source": [
    "#### Sunshine duration in 2017 at Luzern Long: 8°18' Lat: 47°02'"
   ]
  },
  {
   "cell_type": "code",
   "execution_count": 8,
   "metadata": {},
   "outputs": [
    {
     "data": {
      "image/png": "[encoded data removed]",
      "text/plain": [
       "<matplotlib.figure.Figure at 0x236cd2ec6d8>"
      ]
     },
     "metadata": {},
     "output_type": "display_data"
    }
   ],
   "source": [
    "year = '2017-'   \n",
    "s_day = '01-01' # beginning of observation\n",
    "e_day = '12-31' # end of observation\n",
    "start = year + s_day\n",
    "end   = year + e_day\n",
    "\n",
    "_lu_dur = lu_dur.loc[start:end]\n",
    "_lu_rel_dur = lu_rel_dur.loc[start:end]\n",
    "\n",
    "fig, ax = plt.subplots(figsize=(20,4))\n",
    "\n",
    "#_lu_dur.plot(kind='bar',label='Solar radiation measurements', color= 'm')\n",
    "_lu_rel_dur.plot(kind='bar',label='relat. possible sunshine duration', color= 'purple')\n",
    "\n",
    "ax.set_xlabel('[Year - Month/Day]', fontsize=12)\n",
    "ax.set_ylabel('relative sunshine durration [%]', fontsize=12)\n",
    "ax.set_title('Sunshine duration in {} from {} to {}'.format(year.strip('-'),s_day,e_day))\n",
    "ax.legend(loc='upper left')\n",
    "ax.grid(b=None, which='major', axis='both')\n",
    "\n",
    "\n",
    "\n",
    "#ax.xaxis.set_major_locator(mdates.MonthLocator())  #set ticks every month\n",
    "#ax.xaxis.set_major_formatter(mdates.DateFormatter('%Y-%m-d')) #set major ticks format\n",
    "\n",
    "#ax.xaxis.set_major_locator(mdates.MonthLocator())\n",
    "#ax.xaxis.set_minor_locator(mdates.DayLocator())\n",
    "#monthFmt = mdates.DateFormatter('%b')\n",
    "#ax.xaxis.set_major_formatter(monthFmt)\n",
    "\n",
    "day = dates.DayLocator()\n",
    "month = dates.MonthLocator()\n",
    "dfmt = dates.DateFormatter('%Y-%m')\n",
    "\n",
    "datemin = datetime(2017, 1, 1, 0, 0)\n",
    "datemax = datetime(2017, 12, 31, 0, 0)\n",
    "ax.xaxis.set_major_locator(month)\n",
    "ax.xaxis.set_major_formatter(dfmt)\n",
    "#ax.xaxis.set_minor_locator(month)\n",
    "#ax.set_xlim(datemin, datemax)\n",
    "\n",
    "fig.autofmt_xdate()\n",
    "\n",
    "\n",
    "#fig.autofmt_xdate()\n",
    "#frmt = df.index.to_series().dt.strftime(\"%Y-%m-d\")\n",
    "#plt.gca().xaxis.set_major_formatter(plt.FixedFormatter(frmt))\n",
    "\n",
    "\n"
   ]
  }
 ],
 "metadata": {
  "kernelspec": {
   "display_name": "Python 3",
   "language": "python",
   "name": "python3"
  },
  "language_info": {
   "codemirror_mode": {
    "name": "ipython",
    "version": 3
   },
   "file_extension": ".py",
   "mimetype": "text/x-python",
   "name": "python",
   "nbconvert_exporter": "python",
   "pygments_lexer": "ipython3",
   "version": "3.6.2"
  }
 },
 "nbformat": 4,
 "nbformat_minor": 1
}
