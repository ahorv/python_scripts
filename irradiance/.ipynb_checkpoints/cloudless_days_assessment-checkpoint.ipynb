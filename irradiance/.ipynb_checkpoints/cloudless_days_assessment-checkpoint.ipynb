{
 "cells": [
  {
   "cell_type": "markdown",
   "metadata": {
    "collapsed": true
   },
   "source": [
    "### Assessing cloudless days: clear sky days "
   ]
  },
  {
   "cell_type": "code",
   "execution_count": 1,
   "metadata": {
    "collapsed": true
   },
   "outputs": [],
   "source": [
    "import matplotlib\n",
    "import numpy as np\n",
    "import matplotlib.dates as mdates\n",
    "import matplotlib.pyplot as plt\n",
    "#%matplotlib notebook\n",
    "%matplotlib inline\n",
    "import csv\n",
    "import bisect\n",
    "from matplotlib import dates\n",
    "from datetime import datetime\n",
    "from scipy import interpolate\n",
    "from matplotlib.dates import DateFormatter\n",
    "\n",
    "# User defined functions\n",
    "from load_data_from_csv import *"
   ]
  },
  {
   "cell_type": "markdown",
   "metadata": {},
   "source": [
    "#### Import weather station data from Luzern Switzerland"
   ]
  },
  {
   "cell_type": "code",
   "execution_count": 2,
   "metadata": {},
   "outputs": [
    {
     "ename": "TypeError",
     "evalue": "Cannot convert tz-naive timestamps, use tz_localize to localize",
     "output_type": "error",
     "traceback": [
      "\u001b[1;31m---------------------------------------------------------------------------\u001b[0m",
      "\u001b[1;31mTypeError\u001b[0m                                 Traceback (most recent call last)",
      "\u001b[1;32m<ipython-input-2-8f32cabbbc0f>\u001b[0m in \u001b[0;36m<module>\u001b[1;34m()\u001b[0m\n\u001b[0;32m      1\u001b[0m \u001b[0mirad_csv\u001b[0m \u001b[1;33m=\u001b[0m \u001b[1;34mr'irradiation_luz_2017_2018.csv'\u001b[0m\u001b[1;33m\u001b[0m\u001b[0m\n\u001b[0;32m      2\u001b[0m \u001b[1;33m\u001b[0m\u001b[0m\n\u001b[1;32m----> 3\u001b[1;33m \u001b[0mdf_rad\u001b[0m \u001b[1;33m=\u001b[0m \u001b[0mprocess_LUZ\u001b[0m\u001b[1;33m(\u001b[0m\u001b[0mirad_csv\u001b[0m\u001b[1;33m)\u001b[0m\u001b[1;33m\u001b[0m\u001b[0m\n\u001b[0m\u001b[0;32m      4\u001b[0m \u001b[0mdf_rad\u001b[0m\u001b[1;33m.\u001b[0m\u001b[0mset_index\u001b[0m\u001b[1;33m(\u001b[0m\u001b[0mdf_rad\u001b[0m\u001b[1;33m.\u001b[0m\u001b[0mdatetime\u001b[0m\u001b[1;33m,\u001b[0m \u001b[0minplace\u001b[0m\u001b[1;33m=\u001b[0m\u001b[1;32mTrue\u001b[0m\u001b[1;33m)\u001b[0m\u001b[1;33m\u001b[0m\u001b[0m\n\u001b[0;32m      5\u001b[0m \u001b[0ms_rad\u001b[0m \u001b[1;33m=\u001b[0m \u001b[0mdf_rad\u001b[0m\u001b[1;33m[\u001b[0m\u001b[1;34m'gre000z0'\u001b[0m\u001b[1;33m]\u001b[0m          \u001b[1;31m# 10 min mean in W/m²\u001b[0m\u001b[1;33m\u001b[0m\u001b[0m\n",
      "\u001b[1;32m~\\PycharmProjects\\python_scripts\\irradiance\\load_data_from_csv.py\u001b[0m in \u001b[0;36mprocess_LUZ\u001b[1;34m(csv_file)\u001b[0m\n\u001b[0;32m     43\u001b[0m     \u001b[0mdf\u001b[0m\u001b[1;33m[\u001b[0m\u001b[1;34m'time'\u001b[0m\u001b[1;33m]\u001b[0m \u001b[1;33m=\u001b[0m \u001b[0mpd\u001b[0m\u001b[1;33m.\u001b[0m\u001b[0mto_datetime\u001b[0m\u001b[1;33m(\u001b[0m\u001b[0mdf\u001b[0m\u001b[1;33m[\u001b[0m\u001b[1;34m'time'\u001b[0m\u001b[1;33m]\u001b[0m\u001b[1;33m,\u001b[0m \u001b[0mformat\u001b[0m\u001b[1;33m=\u001b[0m\u001b[1;34m'%Y%m%d%H%M'\u001b[0m\u001b[1;33m,\u001b[0m \u001b[0mutc\u001b[0m\u001b[1;33m=\u001b[0m\u001b[1;32mTrue\u001b[0m\u001b[1;33m)\u001b[0m\u001b[1;33m\u001b[0m\u001b[0m\n\u001b[0;32m     44\u001b[0m     \u001b[1;31m#df['time'] = df['time'].dt.tz_localize('UTC')\u001b[0m\u001b[1;33m\u001b[0m\u001b[1;33m\u001b[0m\u001b[0m\n\u001b[1;32m---> 45\u001b[1;33m     \u001b[0mdf\u001b[0m\u001b[1;33m[\u001b[0m\u001b[1;34m'time'\u001b[0m\u001b[1;33m]\u001b[0m \u001b[1;33m=\u001b[0m \u001b[0mdf\u001b[0m\u001b[1;33m[\u001b[0m\u001b[1;34m'time'\u001b[0m\u001b[1;33m]\u001b[0m\u001b[1;33m.\u001b[0m\u001b[0mdt\u001b[0m\u001b[1;33m.\u001b[0m\u001b[0mtz_convert\u001b[0m\u001b[1;33m(\u001b[0m\u001b[1;34m'Europe/Zurich'\u001b[0m\u001b[1;33m)\u001b[0m  \u001b[1;31m# converted to central europe time respecting daylight saving\u001b[0m\u001b[1;33m\u001b[0m\u001b[0m\n\u001b[0m\u001b[0;32m     46\u001b[0m     \u001b[0mdf\u001b[0m\u001b[1;33m.\u001b[0m\u001b[0mrename\u001b[0m\u001b[1;33m(\u001b[0m\u001b[0mcolumns\u001b[0m\u001b[1;33m=\u001b[0m\u001b[1;33m{\u001b[0m\u001b[1;34m'time'\u001b[0m\u001b[1;33m:\u001b[0m \u001b[1;34m'datetime'\u001b[0m\u001b[1;33m}\u001b[0m\u001b[1;33m,\u001b[0m \u001b[0minplace\u001b[0m\u001b[1;33m=\u001b[0m\u001b[1;32mTrue\u001b[0m\u001b[1;33m)\u001b[0m\u001b[1;33m\u001b[0m\u001b[0m\n\u001b[0;32m     47\u001b[0m     \u001b[0mdf\u001b[0m\u001b[1;33m[\u001b[0m\u001b[1;34m'gre000z0'\u001b[0m\u001b[1;33m]\u001b[0m \u001b[1;33m=\u001b[0m \u001b[0mpd\u001b[0m\u001b[1;33m.\u001b[0m\u001b[0mto_numeric\u001b[0m\u001b[1;33m(\u001b[0m\u001b[0mdf\u001b[0m\u001b[1;33m[\u001b[0m\u001b[1;34m'gre000z0'\u001b[0m\u001b[1;33m]\u001b[0m\u001b[1;33m,\u001b[0m \u001b[0merrors\u001b[0m\u001b[1;33m=\u001b[0m\u001b[1;34m'coerce'\u001b[0m\u001b[1;33m)\u001b[0m\u001b[1;33m\u001b[0m\u001b[0m\n",
      "\u001b[1;32m~\\AppData\\Local\\conda\\conda\\envs\\skycam\\lib\\site-packages\\pandas\\core\\base.py\u001b[0m in \u001b[0;36mf\u001b[1;34m(self, *args, **kwargs)\u001b[0m\n\u001b[0;32m    209\u001b[0m \u001b[1;33m\u001b[0m\u001b[0m\n\u001b[0;32m    210\u001b[0m             \u001b[1;32mdef\u001b[0m \u001b[0mf\u001b[0m\u001b[1;33m(\u001b[0m\u001b[0mself\u001b[0m\u001b[1;33m,\u001b[0m \u001b[1;33m*\u001b[0m\u001b[0margs\u001b[0m\u001b[1;33m,\u001b[0m \u001b[1;33m**\u001b[0m\u001b[0mkwargs\u001b[0m\u001b[1;33m)\u001b[0m\u001b[1;33m:\u001b[0m\u001b[1;33m\u001b[0m\u001b[0m\n\u001b[1;32m--> 211\u001b[1;33m                 \u001b[1;32mreturn\u001b[0m \u001b[0mself\u001b[0m\u001b[1;33m.\u001b[0m\u001b[0m_delegate_method\u001b[0m\u001b[1;33m(\u001b[0m\u001b[0mname\u001b[0m\u001b[1;33m,\u001b[0m \u001b[1;33m*\u001b[0m\u001b[0margs\u001b[0m\u001b[1;33m,\u001b[0m \u001b[1;33m**\u001b[0m\u001b[0mkwargs\u001b[0m\u001b[1;33m)\u001b[0m\u001b[1;33m\u001b[0m\u001b[0m\n\u001b[0m\u001b[0;32m    212\u001b[0m \u001b[1;33m\u001b[0m\u001b[0m\n\u001b[0;32m    213\u001b[0m             \u001b[0mf\u001b[0m\u001b[1;33m.\u001b[0m\u001b[0m__name__\u001b[0m \u001b[1;33m=\u001b[0m \u001b[0mname\u001b[0m\u001b[1;33m\u001b[0m\u001b[0m\n",
      "\u001b[1;32m~\\AppData\\Local\\conda\\conda\\envs\\skycam\\lib\\site-packages\\pandas\\core\\indexes\\accessors.py\u001b[0m in \u001b[0;36m_delegate_method\u001b[1;34m(self, name, *args, **kwargs)\u001b[0m\n\u001b[0;32m    131\u001b[0m \u001b[1;33m\u001b[0m\u001b[0m\n\u001b[0;32m    132\u001b[0m         \u001b[0mmethod\u001b[0m \u001b[1;33m=\u001b[0m \u001b[0mgetattr\u001b[0m\u001b[1;33m(\u001b[0m\u001b[0mself\u001b[0m\u001b[1;33m.\u001b[0m\u001b[0mvalues\u001b[0m\u001b[1;33m,\u001b[0m \u001b[0mname\u001b[0m\u001b[1;33m)\u001b[0m\u001b[1;33m\u001b[0m\u001b[0m\n\u001b[1;32m--> 133\u001b[1;33m         \u001b[0mresult\u001b[0m \u001b[1;33m=\u001b[0m \u001b[0mmethod\u001b[0m\u001b[1;33m(\u001b[0m\u001b[1;33m*\u001b[0m\u001b[0margs\u001b[0m\u001b[1;33m,\u001b[0m \u001b[1;33m**\u001b[0m\u001b[0mkwargs\u001b[0m\u001b[1;33m)\u001b[0m\u001b[1;33m\u001b[0m\u001b[0m\n\u001b[0m\u001b[0;32m    134\u001b[0m \u001b[1;33m\u001b[0m\u001b[0m\n\u001b[0;32m    135\u001b[0m         \u001b[1;32mif\u001b[0m \u001b[1;32mnot\u001b[0m \u001b[0mis_list_like\u001b[0m\u001b[1;33m(\u001b[0m\u001b[0mresult\u001b[0m\u001b[1;33m)\u001b[0m\u001b[1;33m:\u001b[0m\u001b[1;33m\u001b[0m\u001b[0m\n",
      "\u001b[1;32m~\\AppData\\Local\\conda\\conda\\envs\\skycam\\lib\\site-packages\\pandas\\core\\indexes\\datetimes.py\u001b[0m in \u001b[0;36mtz_convert\u001b[1;34m(self, tz)\u001b[0m\n\u001b[0;32m   1782\u001b[0m         \u001b[1;32mif\u001b[0m \u001b[0mself\u001b[0m\u001b[1;33m.\u001b[0m\u001b[0mtz\u001b[0m \u001b[1;32mis\u001b[0m \u001b[1;32mNone\u001b[0m\u001b[1;33m:\u001b[0m\u001b[1;33m\u001b[0m\u001b[0m\n\u001b[0;32m   1783\u001b[0m             \u001b[1;31m# tz naive, use tz_localize\u001b[0m\u001b[1;33m\u001b[0m\u001b[1;33m\u001b[0m\u001b[0m\n\u001b[1;32m-> 1784\u001b[1;33m             raise TypeError('Cannot convert tz-naive timestamps, use '\n\u001b[0m\u001b[0;32m   1785\u001b[0m                             'tz_localize to localize')\n\u001b[0;32m   1786\u001b[0m \u001b[1;33m\u001b[0m\u001b[0m\n",
      "\u001b[1;31mTypeError\u001b[0m: Cannot convert tz-naive timestamps, use tz_localize to localize"
     ]
    }
   ],
   "source": [
    "irad_csv = r'irradiation_luz_2017_2018.csv'\n",
    "\n",
    "df_rad = process_LUZ(irad_csv)\n",
    "df_rad.set_index(df_rad.datetime, inplace=True)\n",
    "s_rad = df_rad['gre000z0']          # 10 min mean in W/m² \n",
    "\n",
    "#lu_rad.head(n=2)"
   ]
  },
  {
   "cell_type": "markdown",
   "metadata": {},
   "source": [
    "#### Import  sunshine duration, daily sum"
   ]
  },
  {
   "cell_type": "code",
   "execution_count": null,
   "metadata": {
    "collapsed": true
   },
   "outputs": [],
   "source": [
    "dur_csv = r'sunshine_duration_2017_2018.csv'\n",
    "\n",
    "df_dur = process_LUZ_dur(dur_csv)\n",
    "df_dur.set_index(df_dur.datetime, inplace=True)\n",
    "df_dur['su2000d0'] = pd.to_numeric(df_dur['su2000d0'], errors='coerce')\n",
    "s_dur = df_dur['su2000d0']          # in hours"
   ]
  },
  {
   "cell_type": "markdown",
   "metadata": {},
   "source": [
    "#### Import sunshine duration, relative to the absolute possible daily sum"
   ]
  },
  {
   "cell_type": "code",
   "execution_count": null,
   "metadata": {
    "collapsed": true
   },
   "outputs": [],
   "source": [
    "dur_csv = r'sunshine_duration_2017_2018.csv'\n",
    "\n",
    "df_rel = process_LUZ_dur(dur_csv)\n",
    "df_rel.set_index(df_rel.datetime, inplace=True)\n",
    "df_rel['sremaxdv'] = pd.to_numeric(df_rel['sremaxdv'], errors='coerce')\n",
    "s_rel = df_rel['sremaxdv']          # in percent"
   ]
  },
  {
   "cell_type": "markdown",
   "metadata": {},
   "source": [
    "#### Relative to max possible sunshine duration in 2017 at Luzern \n",
    "Description: Sonnenscheindauer; relativ zur absolut möglichen Tagessumme<br>\n",
    "Long: 8°18' Lat: 47°02'"
   ]
  },
  {
   "cell_type": "code",
   "execution_count": null,
   "metadata": {},
   "outputs": [],
   "source": [
    "year = '2017-'   \n",
    "s_day = '11-17' # beginning of observation\n",
    "e_day = '12-31' # end of observation\n",
    "start = year + s_day\n",
    "end   = year + e_day\n",
    "\n",
    "s_rel_17 = s_rel.loc[start:end]\n",
    "fig, ax = plt.subplots(figsize=(20,5))\n",
    "ax.bar(s_rel_17.index, s_rel_17.values, label='relat. possible sunshine duration', color= 'orange')\n",
    "\n",
    "ax.set_xlabel('[Year - Month/Day]', fontsize=12)\n",
    "ax.set_ylabel('relative sunshine durration [%]', fontsize=12)\n",
    "ax.set_title('Sunshine duration in {} from {} to {}'.format(year.strip('-'),s_day,e_day))\n",
    "ax.legend(loc='upper left')\n",
    "ax.grid(b=None, which='major', axis='both')\n",
    "\n",
    "#ax.xaxis.set_major_locator(mdates.WeekdayLocator())\n",
    "ax.xaxis.set_major_locator(mdates.DayLocator())\n",
    "ax.xaxis.set_major_formatter(mdates.DateFormatter('%b %d'))\n",
    "fig.autofmt_xdate()\n"
   ]
  },
  {
   "cell_type": "markdown",
   "metadata": {},
   "source": [
    "#### Relative to max possible sunshine duration in 2018 at Luzern \n",
    "Description: Sonnenscheindauer; relativ zur absolut möglichen Tagessumme<br>\n",
    "Long: 8°18' Lat: 47°02'"
   ]
  },
  {
   "cell_type": "code",
   "execution_count": null,
   "metadata": {},
   "outputs": [],
   "source": [
    "year = '2018-'   \n",
    "s_day = '01-01' # beginning of observation\n",
    "e_day = '12-31' # end of observation\n",
    "start = year + s_day\n",
    "end   = year + e_day\n",
    "\n",
    "s_rel_18 = s_rel.loc[start:end]\n",
    "fig, ax = plt.subplots(figsize=(20,5))\n",
    "ax.bar(s_rel_18.index, s_rel_18.values, label='relat. possible sunshine duration', color= 'orange')\n",
    "\n",
    "ax.set_xlabel('[Year - Month/Day]', fontsize=12)\n",
    "ax.set_ylabel('relative sunshine durration [%]', fontsize=12)\n",
    "ax.set_title('Sunshine duration in {} from {} to {}'.format(year.strip('-'),s_day,e_day))\n",
    "ax.legend(loc='upper left')\n",
    "ax.grid(b=None, which='major', axis='both')\n",
    "\n",
    "#ax.xaxis.set_major_locator(mdates.WeekdayLocator())\n",
    "ax.xaxis.set_major_locator(mdates.MonthLocator())\n",
    "ax.xaxis.set_major_formatter(mdates.DateFormatter('%b %d'))\n",
    "fig.autofmt_xdate()\n"
   ]
  },
  {
   "cell_type": "markdown",
   "metadata": {},
   "source": [
    "#### Zoom in 2018 April to May"
   ]
  },
  {
   "cell_type": "code",
   "execution_count": null,
   "metadata": {},
   "outputs": [],
   "source": [
    "year = '2018-'   \n",
    "s_day = '03-15' # beginning of observation\n",
    "e_day = '05-31' # end of observation\n",
    "start = year + s_day\n",
    "end   = year + e_day\n",
    "\n",
    "s_rel_1 = s_rel.loc[start:end]\n",
    "fig, ax = plt.subplots(figsize=(20,5))\n",
    "ax.bar(s_rel_1.index, s_rel_1.values, label='relat. possible sunshine duration', color= 'orange')\n",
    "\n",
    "ax.set_xlabel('[Year - Month/Day]', fontsize=12)\n",
    "ax.set_ylabel('relative sunshine durration [%]', fontsize=12)\n",
    "ax.set_title('Sunshine duration in {} from {} to {}'.format(year.strip('-'),s_day,e_day))\n",
    "ax.legend(loc='upper left')\n",
    "ax.grid(b=None, which='major', axis='both')\n",
    "\n",
    "ax.xaxis.set_major_locator(mdates.WeekdayLocator())\n",
    "#ax.xaxis.set_major_locator(mdates.DayLocator())\n",
    "ax.xaxis.set_major_formatter(mdates.DateFormatter('%b %d'))\n",
    "fig.autofmt_xdate()"
   ]
  },
  {
   "cell_type": "markdown",
   "metadata": {},
   "source": [
    "#### Zoom in 2018 Jun to July"
   ]
  },
  {
   "cell_type": "code",
   "execution_count": null,
   "metadata": {},
   "outputs": [],
   "source": [
    "year = '2018-'   \n",
    "s_day = '05-22' # beginning of observation\n",
    "e_day = '07-30' # end of observation\n",
    "start = year + s_day\n",
    "end   = year + e_day\n",
    "\n",
    "s_rel_2 = s_rel.loc[start:end]\n",
    "fig, ax = plt.subplots(figsize=(20,5))\n",
    "ax.bar(s_rel_2.index, s_rel_2.values, label='relat. possible sunshine duration', color= 'orange')\n",
    "\n",
    "ax.set_xlabel('[Year - Month/Day]', fontsize=12)\n",
    "ax.set_ylabel('relative sunshine durration [%]', fontsize=12)\n",
    "ax.set_title('Sunshine duration in {} from {} to {}'.format(year.strip('-'),s_day,e_day))\n",
    "ax.legend(loc='upper left')\n",
    "ax.grid(b=None, which='major', axis='both')\n",
    "\n",
    "ax.xaxis.set_major_locator(mdates.WeekdayLocator())\n",
    "#ax.xaxis.set_major_locator(mdates.DayLocator())\n",
    "ax.xaxis.set_major_formatter(mdates.DateFormatter('%b %d'))\n",
    "fig.autofmt_xdate()"
   ]
  },
  {
   "cell_type": "markdown",
   "metadata": {},
   "source": [
    "#### Zoom in 2018 August to September"
   ]
  },
  {
   "cell_type": "code",
   "execution_count": null,
   "metadata": {},
   "outputs": [],
   "source": [
    "year = '2018-'   \n",
    "s_day = '07-05' # beginning of observation\n",
    "e_day = '09-30' # end of observation\n",
    "start = year + s_day\n",
    "end   = year + e_day\n",
    "\n",
    "s_rel_3 = s_rel.loc[start:end]\n",
    "fig, ax = plt.subplots(figsize=(20,5))\n",
    "ax.bar(s_rel_3.index, s_rel_3.values, label='relat. possible sunshine duration', color= 'orange')\n",
    "\n",
    "ax.set_xlabel('[Year - Month/Day]', fontsize=12)\n",
    "ax.set_ylabel('relative sunshine durration [%]', fontsize=12)\n",
    "ax.set_title('Sunshine duration in {} from {} to {}'.format(year.strip('-'),s_day,e_day))\n",
    "ax.legend(loc='upper left')\n",
    "ax.grid(b=None, which='major', axis='both')\n",
    "\n",
    "ax.xaxis.set_major_locator(mdates.WeekdayLocator())\n",
    "#ax.xaxis.set_major_locator(mdates.DayLocator())\n",
    "ax.xaxis.set_major_formatter(mdates.DateFormatter('%b %d'))\n",
    "fig.autofmt_xdate()"
   ]
  },
  {
   "cell_type": "markdown",
   "metadata": {},
   "source": [
    "#### Zoom in 2018 Oktober to November"
   ]
  },
  {
   "cell_type": "code",
   "execution_count": null,
   "metadata": {},
   "outputs": [],
   "source": [
    "year = '2018-'   \n",
    "s_day = '09-25' # beginning of observation\n",
    "e_day = '11-30' # end of observation\n",
    "start = year + s_day\n",
    "end   = year + e_day\n",
    "\n",
    "s_rel_4 = s_rel.loc[start:end]\n",
    "fig, ax = plt.subplots(figsize=(20,5))\n",
    "ax.bar(s_rel_4.index, s_rel_4.values, label='relat. possible sunshine duration', color= 'orange')\n",
    "\n",
    "ax.set_xlabel('[Year - Month/Day]', fontsize=12)\n",
    "ax.set_ylabel('relative sunshine durration [%]', fontsize=12)\n",
    "ax.set_title('Sunshine duration in {} from {} to {}'.format(year.strip('-'),s_day,e_day))\n",
    "ax.legend(loc='upper left')\n",
    "ax.grid(b=None, which='major', axis='both')\n",
    "\n",
    "ax.xaxis.set_major_locator(mdates.WeekdayLocator())\n",
    "#ax.xaxis.set_major_locator(mdates.DayLocator())\n",
    "ax.xaxis.set_major_formatter(mdates.DateFormatter('%b %d'))\n",
    "fig.autofmt_xdate()"
   ]
  }
 ],
 "metadata": {
  "kernelspec": {
   "display_name": "Python 3",
   "language": "python",
   "name": "python3"
  },
  "language_info": {
   "codemirror_mode": {
    "name": "ipython",
    "version": 3
   },
   "file_extension": ".py",
   "mimetype": "text/x-python",
   "name": "python",
   "nbconvert_exporter": "python",
   "pygments_lexer": "ipython3",
   "version": "3.6.2"
  }
 },
 "nbformat": 4,
 "nbformat_minor": 1
}
