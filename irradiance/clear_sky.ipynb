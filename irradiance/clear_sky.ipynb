{
 "cells": [
  {
   "cell_type": "markdown",
   "metadata": {
    "collapsed": true
   },
   "source": [
    "### Clear Sky"
   ]
  },
  {
   "cell_type": "code",
   "execution_count": 13,
   "metadata": {
    "collapsed": true
   },
   "outputs": [],
   "source": [
    "import matplotlib\n",
    "import numpy as np\n",
    "import matplotlib.pyplot as plt\n",
    "%matplotlib inline\n",
    "import csv\n",
    "import bisect\n",
    "import datetime\n",
    "from scipy import interpolate\n",
    "from matplotlib.dates import DateFormatter\n",
    "\n",
    "# User defined functions\n",
    "from load_data_from_csv import *"
   ]
  },
  {
   "cell_type": "markdown",
   "metadata": {},
   "source": [
    "#### Import  Data"
   ]
  },
  {
   "cell_type": "code",
   "execution_count": 14,
   "metadata": {
    "collapsed": true
   },
   "outputs": [],
   "source": [
    "day = '2018-10-12'   # select day of observation ('2018-10-12' : camera 2, sw-vers. 3)\n",
    "s_time = ' 07:00:00' # beginning of observation\n",
    "e_time = ' 20:00:00' # end of observation\n",
    "start = day + s_time\n",
    "end   = day + e_time"
   ]
  },
  {
   "cell_type": "markdown",
   "metadata": {},
   "source": [
    "#### Weather station at Luzern Switzerland"
   ]
  },
  {
   "cell_type": "code",
   "execution_count": 15,
   "metadata": {},
   "outputs": [
    {
     "data": {
      "text/plain": [
       "datetime\n",
       "2018-10-12 07:00:00+02:00    0.0\n",
       "2018-10-12 07:10:00+02:00    0.0\n",
       "Name: gre000z0, dtype: float64"
      ]
     },
     "execution_count": 15,
     "metadata": {},
     "output_type": "execute_result"
    }
   ],
   "source": [
    "luz_csv = r'irradiation_luz_2017_2018.csv'\n",
    "\n",
    "df_lu = process_LUZ(luz_csv)\n",
    "df_lu.set_index(df_lu.datetime, inplace=True)\n",
    "df = df_lu['gre000z0']       # 10 min mean in W/m² \n",
    "lu_rad = df.loc[start:end]   # set distinct observation day\n",
    "lu_rad.to_csv('lu_rad.csv')\n",
    "\n",
    "#lu_rad.dtypes\n",
    "#lu_rad.index.min()\n",
    "#lu_rad.index.max()\n",
    "\n",
    "lu_rad.head(n=2)"
   ]
  },
  {
   "cell_type": "markdown",
   "metadata": {},
   "source": [
    "#### Clear Sky solar irradiance from SODA using McClear model\n",
    "Source: http://www.soda-pro.com/web-services/radiation/cams-mcclear"
   ]
  },
  {
   "cell_type": "code",
   "execution_count": 16,
   "metadata": {
    "scrolled": true
   },
   "outputs": [
    {
     "data": {
      "text/plain": [
       "datetime\n",
       "2018-10-12 07:00:00+02:00    0.0\n",
       "2018-10-12 07:10:00+02:00    0.0\n",
       "Name: Clear sky GHI, dtype: float64"
      ]
     },
     "execution_count": 16,
     "metadata": {},
     "output_type": "execute_result"
    }
   ],
   "source": [
    "soda_csv = r'irradiation_soda_2017_2018_1min.csv'\n",
    "\n",
    "df_soda = process_SODA(soda_csv)\n",
    "df = df_soda['Clear sky GHI']*60 # given in units of Wh/m² \n",
    "mc_rad = df.loc[start:end]       # set distinct observation day\n",
    "\n",
    "mc_rad.head(n=2)"
   ]
  },
  {
   "cell_type": "markdown",
   "metadata": {},
   "source": [
    "#### Load relative luminance from images"
   ]
  },
  {
   "cell_type": "code",
   "execution_count": 17,
   "metadata": {},
   "outputs": [
    {
     "ename": "NameError",
     "evalue": "name 'process_CALC' is not defined",
     "output_type": "error",
     "traceback": [
      "\u001b[1;31m---------------------------------------------------------------------------\u001b[0m",
      "\u001b[1;31mNameError\u001b[0m                                 Traceback (most recent call last)",
      "\u001b[1;32m<ipython-input-17-38f652f8fe8b>\u001b[0m in \u001b[0;36m<module>\u001b[1;34m()\u001b[0m\n\u001b[0;32m      1\u001b[0m \u001b[0mcalc_csv\u001b[0m \u001b[1;33m=\u001b[0m \u001b[1;34mr'20181012_luminance.csv'\u001b[0m\u001b[1;33m\u001b[0m\u001b[0m\n\u001b[0;32m      2\u001b[0m \u001b[1;33m\u001b[0m\u001b[0m\n\u001b[1;32m----> 3\u001b[1;33m \u001b[0mdf_calc\u001b[0m \u001b[1;33m=\u001b[0m \u001b[0mprocess_CALC\u001b[0m\u001b[1;33m(\u001b[0m\u001b[0mcalc_csv\u001b[0m\u001b[1;33m)\u001b[0m\u001b[1;33m\u001b[0m\u001b[0m\n\u001b[0m\u001b[0;32m      4\u001b[0m \u001b[0mlum_hdr\u001b[0m \u001b[1;33m=\u001b[0m \u001b[0mdf_calc\u001b[0m\u001b[1;33m[\u001b[0m\u001b[1;34m'lum_hdr'\u001b[0m\u001b[1;33m]\u001b[0m          \u001b[1;31m# mean luminance from HDR image\u001b[0m\u001b[1;33m\u001b[0m\u001b[0m\n\u001b[0;32m      5\u001b[0m \u001b[0mlum_hdr_m\u001b[0m \u001b[1;33m=\u001b[0m \u001b[0mdf_calc\u001b[0m\u001b[1;33m[\u001b[0m\u001b[1;34m'lum_hdr_m'\u001b[0m\u001b[1;33m]\u001b[0m      \u001b[1;31m# mean luminance from masked HDR image from raw data\u001b[0m\u001b[1;33m\u001b[0m\u001b[0m\n",
      "\u001b[1;31mNameError\u001b[0m: name 'process_CALC' is not defined"
     ]
    }
   ],
   "source": [
    "calc_csv = r'20181012_luminance.csv'\n",
    "\n",
    "df_calc = process_CALC(calc_csv)\n",
    "lum_hdr = df_calc['lum_hdr']          # mean luminance from HDR image\n",
    "lum_hdr_m = df_calc['lum_hdr_m']      # mean luminance from masked HDR image from raw data\n",
    "lum_jpg_m = df_calc['lum_jpg_m']      # mean luminance from masked HDR image build from three jpg exposures\n",
    "\n",
    "lum_hdr.head(n=2)"
   ]
  },
  {
   "cell_type": "markdown",
   "metadata": {},
   "source": [
    "#### Solar measurements vs. McClear model"
   ]
  },
  {
   "cell_type": "code",
   "execution_count": null,
   "metadata": {
    "collapsed": true
   },
   "outputs": [],
   "source": [
    "fig = plt.figure(1, figsize=(10,4))\n",
    "mc_rad.plot(label='McClear model')\n",
    "lu_rad.plot(label='Solar radiation measurements')\n",
    "\n",
    "#mc_rad.plot(dateaxis, mc_rad, 'm', label='McClear model')\n",
    "#lu_rad.plot(dateaxis, lu_rad, 'r', label='Solar radiation measurements')\n",
    "plt.xlabel('Time of the day]', fontsize=12)\n",
    "plt.ylabel('Solar radiation [W/m²]', fontsize=12)\n",
    "plt.legend(loc='upper left')\n",
    "plt.grid(b=None, which='major', axis='both')\n",
    "plt.title(day)\n",
    "fig.autofmt_xdate()\n",
    "formatter = DateFormatter('%H:%M')\n",
    "plt.gcf().axes[0].xaxis.set_major_formatter(formatter)\n",
    "\n",
    "# localized datetime not shown !\n"
   ]
  }
 ],
 "metadata": {
  "kernelspec": {
   "display_name": "Python 3",
   "language": "python",
   "name": "python3"
  },
  "language_info": {
   "codemirror_mode": {
    "name": "ipython",
    "version": 3
   },
   "file_extension": ".py",
   "mimetype": "text/x-python",
   "name": "python",
   "nbconvert_exporter": "python",
   "pygments_lexer": "ipython3",
   "version": "3.6.2"
  }
 },
 "nbformat": 4,
 "nbformat_minor": 1
}
