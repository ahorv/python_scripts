{
 "cells": [
  {
   "cell_type": "markdown",
   "metadata": {
    "collapsed": true
   },
   "source": [
    "### Clear Sky"
   ]
  },
  {
   "cell_type": "code",
   "execution_count": 1,
   "metadata": {},
   "outputs": [],
   "source": [
    "import matplotlib\n",
    "import numpy as np\n",
    "import matplotlib.pyplot as plt\n",
    "%matplotlib inline\n",
    "import csv\n",
    "import bisect\n",
    "import datetime\n",
    "from scipy import interpolate\n",
    "from matplotlib.dates import DateFormatter\n",
    "\n",
    "# User defined functions\n",
    "from load_data_from_csv import *"
   ]
  },
  {
   "cell_type": "markdown",
   "metadata": {},
   "source": [
    "### Import LUZ Data"
   ]
  },
  {
   "cell_type": "code",
   "execution_count": 2,
   "metadata": {},
   "outputs": [
    {
     "name": "stdout",
     "output_type": "stream",
     "text": [
      "   stn                time gor000za gre000z0\n",
      "0  LUZ 2017-01-01 00:00:00        0        0\n",
      "1  LUZ 2017-01-01 00:10:00        0        0\n"
     ]
    }
   ],
   "source": [
    "luz_csv = r'irradiation_luz_2017_2018.csv'\n",
    "\n",
    "df_luz = process_LUZ(luz_csv)\n",
    "print(df_luz.head(n=2))"
   ]
  },
  {
   "cell_type": "code",
   "execution_count": 3,
   "metadata": {},
   "outputs": [
    {
     "name": "stdout",
     "output_type": "stream",
     "text": [
      "                 time  TOA  Clear sky GHI  Clear sky BHI  Clear sky DHI  \\\n",
      "0 2017-01-01 00:15:00  0.0            0.0            0.0            0.0   \n",
      "1 2017-01-01 00:30:00  0.0            0.0            0.0            0.0   \n",
      "\n",
      "   Clear sky BNI  \n",
      "0            0.0  \n",
      "1            0.0  \n"
     ]
    }
   ],
   "source": [
    "soda_csv = r'irradiation_soda_2017_2018.csv'\n",
    "\n",
    "df_soda = process_SODA(soda_csv)\n",
    "print(df_soda.head(n=2))"
   ]
  }
 ],
 "metadata": {
  "kernelspec": {
   "display_name": "Python 3",
   "language": "python",
   "name": "python3"
  },
  "language_info": {
   "codemirror_mode": {
    "name": "ipython",
    "version": 3
   },
   "file_extension": ".py",
   "mimetype": "text/x-python",
   "name": "python",
   "nbconvert_exporter": "python",
   "pygments_lexer": "ipython3",
   "version": "3.6.2"
  }
 },
 "nbformat": 4,
 "nbformat_minor": 1
}
