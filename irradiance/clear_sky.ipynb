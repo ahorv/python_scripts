{
 "cells": [
  {
   "cell_type": "markdown",
   "metadata": {
    "collapsed": true
   },
   "source": [
    "### Clear Sky"
   ]
  },
  {
   "cell_type": "code",
   "execution_count": 17,
   "metadata": {
    "collapsed": true
   },
   "outputs": [],
   "source": [
    "import matplotlib\n",
    "import numpy as np\n",
    "import matplotlib.pyplot as plt\n",
    "%matplotlib inline\n",
    "import csv\n",
    "import bisect\n",
    "import datetime\n",
    "from scipy import interpolate\n",
    "from matplotlib.dates import DateFormatter\n",
    "\n",
    "# User defined functions\n",
    "from load_data_from_csv import *"
   ]
  },
  {
   "cell_type": "markdown",
   "metadata": {},
   "source": [
    "### Import  Data"
   ]
  },
  {
   "cell_type": "markdown",
   "metadata": {},
   "source": [
    "#### Weather station at Luzern Switzerland"
   ]
  },
  {
   "cell_type": "code",
   "execution_count": 27,
   "metadata": {},
   "outputs": [
    {
     "name": "stdout",
     "output_type": "stream",
     "text": [
      "    stn                      time gor000za gre000z0\n",
      "49  LUZ 2017-01-01 09:10:00+01:00        3       11\n"
     ]
    }
   ],
   "source": [
    "luz_csv = r'irradiation_luz_2017_2018.csv'\n",
    "\n",
    "df_luz = process_LUZ(luz_csv)\n",
    "print(df_luz.iloc[[49]])     "
   ]
  },
  {
   "cell_type": "markdown",
   "metadata": {},
   "source": [
    "#### Clear Sky solar irradiance from SODA using McClear model \n",
    "Source: http://www.soda-pro.com/web-services/radiation/cams-mcclear"
   ]
  },
  {
   "cell_type": "code",
   "execution_count": 24,
   "metadata": {},
   "outputs": [
    {
     "name": "stdout",
     "output_type": "stream",
     "text": [
      "                        time      TOA  Clear sky GHI  Clear sky BHI  \\\n",
      "31 2017-01-01 09:00:00+01:00  27.7706        13.7936         7.8554   \n",
      "\n",
      "    Clear sky DHI  Clear sky BNI  \n",
      "31         5.9382        98.4537  \n"
     ]
    }
   ],
   "source": [
    "soda_csv = r'irradiation_soda_2017_2018.csv'\n",
    "\n",
    "df_soda = process_SODA(soda_csv)\n",
    "print(df_soda.iloc[[68-37]])"
   ]
  },
  {
   "cell_type": "markdown",
   "metadata": {},
   "source": [
    "#### Load data for particular date"
   ]
  },
  {
   "cell_type": "code",
   "execution_count": 7,
   "metadata": {
    "collapsed": true
   },
   "outputs": [],
   "source": [
    "particulardate = ['2018-10-12'] # Days of interest with clear sky"
   ]
  },
  {
   "cell_type": "code",
   "execution_count": 8,
   "metadata": {},
   "outputs": [
    {
     "ename": "NameError",
     "evalue": "name 'dateaxis' is not defined",
     "traceback": [
      "\u001b[1;31m---------------------------------------------------------------------------\u001b[0m",
      "\u001b[1;31mNameError\u001b[0m                                 Traceback (most recent call last)",
      "\u001b[1;32m<ipython-input-8-e67baa3c313e>\u001b[0m in \u001b[0;36m<module>\u001b[1;34m()\u001b[0m\n\u001b[0;32m      1\u001b[0m \u001b[1;31m# McClear model\u001b[0m\u001b[1;33m\u001b[0m\u001b[1;33m\u001b[0m\u001b[0m\n\u001b[0;32m      2\u001b[0m \u001b[0mmc_rad\u001b[0m \u001b[1;33m=\u001b[0m \u001b[1;33m[\u001b[0m\u001b[1;33m]\u001b[0m\u001b[1;33m\u001b[0m\u001b[0m\n\u001b[1;32m----> 3\u001b[1;33m \u001b[1;32mfor\u001b[0m \u001b[0mdate_part\u001b[0m \u001b[1;32min\u001b[0m \u001b[0mdateaxis\u001b[0m\u001b[1;33m:\u001b[0m\u001b[1;33m\u001b[0m\u001b[0m\n\u001b[0m\u001b[0;32m      4\u001b[0m     \u001b[1;31m# dt is from mcclear model\u001b[0m\u001b[1;33m\u001b[0m\u001b[1;33m\u001b[0m\u001b[0m\n\u001b[0;32m      5\u001b[0m     \u001b[1;33m(\u001b[0m\u001b[0mtime_found\u001b[0m\u001b[1;33m,\u001b[0m\u001b[0mdiff_ts\u001b[0m\u001b[1;33m)\u001b[0m \u001b[1;33m=\u001b[0m \u001b[0mnearest\u001b[0m\u001b[1;33m(\u001b[0m\u001b[0mdate_part\u001b[0m\u001b[1;33m,\u001b[0m\u001b[0mdt\u001b[0m\u001b[1;33m)\u001b[0m\u001b[1;33m\u001b[0m\u001b[0m\n",
      "\u001b[1;31mNameError\u001b[0m: name 'dateaxis' is not defined"
     ],
     "output_type": "error"
    }
   ],
   "source": [
    "    # McClear model\n",
    "    mc_rad = []\n",
    "    for date_part in dateaxis:    \n",
    "        # dt is from mcclear model\n",
    "        (time_found,diff_ts) = nearest(date_part,dt)\n",
    "        #print ('Check time is ',date_part,'and found time is ',time_found, 'Difference = ' , diff_ts)\n",
    "        if np.abs(diff_ts)<100:        \n",
    "            item_index = dt.index(time_found)\n",
    "            CSR = (sol[item_index])*60\n",
    "            mc_rad.append(CSR)      \n",
    "        \n",
    "    mc_rad = np.array(mc_rad)"
   ]
  },
  {
   "cell_type": "code",
   "execution_count": null,
   "metadata": {
    "collapsed": true
   },
   "outputs": [],
   "source": []
  }
 ],
 "metadata": {
  "kernelspec": {
   "display_name": "Python 3",
   "language": "python",
   "name": "python3"
  },
  "language_info": {
   "codemirror_mode": {
    "name": "ipython",
    "version": 3
   },
   "file_extension": ".py",
   "mimetype": "text/x-python",
   "name": "python",
   "nbconvert_exporter": "python",
   "pygments_lexer": "ipython3",
   "version": "3.6.2"
  }
 },
 "nbformat": 4,
 "nbformat_minor": 1
}
