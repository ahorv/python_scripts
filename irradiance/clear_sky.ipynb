{
 "cells": [
  {
   "cell_type": "markdown",
   "metadata": {
    "collapsed": true
   },
   "source": [
    "### Clear Sky"
   ]
  },
  {
   "cell_type": "code",
   "execution_count": 2,
   "metadata": {
    "collapsed": true
   },
   "outputs": [],
   "source": [
    "import matplotlib\n",
    "import numpy as np\n",
    "import matplotlib.pyplot as plt\n",
    "%matplotlib inline\n",
    "import csv\n",
    "import bisect\n",
    "import datetime\n",
    "from scipy import interpolate\n",
    "from matplotlib.dates import DateFormatter\n",
    "\n",
    "# User defined functions\n",
    "from load_data_from_csv import *"
   ]
  },
  {
   "cell_type": "markdown",
   "metadata": {},
   "source": [
    "#### Import  Data"
   ]
  },
  {
   "cell_type": "code",
   "execution_count": 3,
   "metadata": {
    "collapsed": true
   },
   "outputs": [],
   "source": [
    "day = '2018-10-12'   # select day of observation (camera 2, sw-vers. 3)\n",
    "s_time = ' 09:00:00' # beginning of observation\n",
    "e_time = ' 15:00:00' # end of observation"
   ]
  },
  {
   "cell_type": "markdown",
   "metadata": {},
   "source": [
    "#### Weather station at Luzern Switzerland"
   ]
  },
  {
   "cell_type": "code",
   "execution_count": 4,
   "metadata": {},
   "outputs": [
    {
     "data": {
      "text/plain": [
       "datetime\n",
       "2018-10-12 09:00:00+02:00    163\n",
       "Freq: 10T, Name: gre000z0, dtype: object"
      ]
     },
     "execution_count": 4,
     "metadata": {},
     "output_type": "execute_result"
    }
   ],
   "source": [
    "luz_csv = r'irradiation_luz_2017_2018.csv'\n",
    "\n",
    "df_luz = process_LUZ(luz_csv)\n",
    "df_luz.set_index(df_luz.datetime, inplace=True)\n",
    "df = df_luz['gre000z0']       # 10 min mean in W/m² )\n",
    "#df.dtypes\n",
    "luz_rad = df.loc[day+s_time:day+e_time]\n",
    "\n",
    "#luz_rad = df[(df['datetime'] > day + start_time) & (df['datetime'] <= day + end_time)]\n",
    "\n",
    "luz_rad.head(n=1)"
   ]
  },
  {
   "cell_type": "markdown",
   "metadata": {},
   "source": [
    "#### Clear Sky solar irradiance from SODA using McClear model\n",
    "Source: http://www.soda-pro.com/web-services/radiation/cams-mcclear"
   ]
  },
  {
   "cell_type": "code",
   "execution_count": 14,
   "metadata": {},
   "outputs": [],
   "source": [
    "soda_csv = r'irradiation_soda_2017_2018_1min.csv'\n",
    "\n",
    "df_soda = process_SODA(soda_csv)\n",
    "mc_rad = df_soda['Clear sky GHI']/60 # in units of Wh/m² \n",
    "#mc_rad.head(n=1)"
   ]
  },
  {
   "cell_type": "markdown",
   "metadata": {},
   "source": [
    "#### Solar measurements vs. McClear model"
   ]
  },
  {
   "cell_type": "code",
   "execution_count": null,
   "metadata": {
    "collapsed": true
   },
   "outputs": [],
   "source": [
    "fig = plt.figure(1, figsize=(10,4))\n",
    "plt.plot(dateaxis, mc_rad, 'm', label='McClear model')\n",
    "plt.plot(dateaxis, luz_rad, 'r', label='Solar radiation measurements')\n",
    "plt.xlabel('Solar radiation [W/m²]', fontsize=12)\n",
    "plt.legend(loc='upper left')\n",
    "plt.grid(b=None, which='major', axis='both')\n",
    "plt.title('2018-10-12')\n"
   ]
  }
 ],
 "metadata": {
  "kernelspec": {
   "display_name": "Python 3",
   "language": "python",
   "name": "python3"
  },
  "language_info": {
   "codemirror_mode": {
    "name": "ipython",
    "version": 3
   },
   "file_extension": ".py",
   "mimetype": "text/x-python",
   "name": "python",
   "nbconvert_exporter": "python",
   "pygments_lexer": "ipython3",
   "version": "3.6.2"
  }
 },
 "nbformat": 4,
 "nbformat_minor": 1
}
