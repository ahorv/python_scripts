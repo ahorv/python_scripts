{
 "cells": [
  {
   "cell_type": "markdown",
   "metadata": {
    "collapsed": true
   },
   "source": [
    "### Assessing suitable days: rainless days"
   ]
  },
  {
   "cell_type": "code",
   "execution_count": 1,
   "metadata": {
    "collapsed": true
   },
   "outputs": [],
   "source": [
    "import matplotlib\n",
    "import numpy as np\n",
    "import matplotlib.dates as mdates\n",
    "import matplotlib.pyplot as plt\n",
    "#%matplotlib notebook\n",
    "%matplotlib inline\n",
    "import csv\n",
    "import bisect\n",
    "import datetime\n",
    "from scipy import interpolate\n",
    "from matplotlib.dates import DateFormatter\n",
    "\n",
    "# User defined functions\n",
    "from load_precip_irrad_from_csv import *"
   ]
  },
  {
   "cell_type": "markdown",
   "metadata": {},
   "source": [
    "### Remarks:\n",
    "- __HSLU pyranometer data__ is avaiable from 2017 01.01 to 2018 01.03<br>\n",
    "- __Images from sky-cameras__ range from 2017 11.17 to 2018 11.13<br>\n",
    "\n",
    "\n",
    "- __Camera 1__ worked from 2017 02.11 to 2018 11.13<br>\n",
    "    - SW version 1 from 2017 01.01 to 2018 04.02\n",
    "    - SW version 2 from 2018 04.03 to 2018 10.08\n",
    "    - SW version 3 from 2018 10.09 to 2018 11.13\n",
    "    \n",
    "    \n",
    "- __Camera 2__ worked from 2017 02.11 to 2018 11.13<br>\n",
    "    - SW version 1 from 2018 01.09 to 2018 04.03\n",
    "    - SW version 2 from 2018 04.03 to 2018 06.10\n",
    "    - SW version 3 from 2018 11.12 to 2018 11.14"
   ]
  },
  {
   "cell_type": "markdown",
   "metadata": {},
   "source": [
    "#### Import Precipitation"
   ]
  },
  {
   "cell_type": "code",
   "execution_count": 2,
   "metadata": {},
   "outputs": [
    {
     "ename": "TypeError",
     "evalue": "Cannot convert tz-naive timestamps, use tz_localize to localize",
     "output_type": "error",
     "traceback": [
      "\u001b[1;31m---------------------------------------------------------------------------\u001b[0m",
      "\u001b[1;31mTypeError\u001b[0m                                 Traceback (most recent call last)",
      "\u001b[1;32m<ipython-input-2-70a073aae176>\u001b[0m in \u001b[0;36m<module>\u001b[1;34m()\u001b[0m\n\u001b[0;32m      1\u001b[0m \u001b[0mluz_precip\u001b[0m \u001b[1;33m=\u001b[0m \u001b[1;34mr'../weather_data/precipitation_luz_2017_2018.csv'\u001b[0m\u001b[1;33m\u001b[0m\u001b[0m\n\u001b[0;32m      2\u001b[0m \u001b[1;33m\u001b[0m\u001b[0m\n\u001b[1;32m----> 3\u001b[1;33m \u001b[0mdf_precip\u001b[0m \u001b[1;33m=\u001b[0m \u001b[0mprocess_LUZ_Precip\u001b[0m\u001b[1;33m(\u001b[0m\u001b[0mluz_precip\u001b[0m\u001b[1;33m)\u001b[0m\u001b[1;33m\u001b[0m\u001b[0m\n\u001b[0m\u001b[0;32m      4\u001b[0m \u001b[0mdf_precip\u001b[0m\u001b[1;33m.\u001b[0m\u001b[0mset_index\u001b[0m\u001b[1;33m(\u001b[0m\u001b[0mdf_precip\u001b[0m\u001b[1;33m.\u001b[0m\u001b[0mdatetime\u001b[0m\u001b[1;33m,\u001b[0m \u001b[0minplace\u001b[0m\u001b[1;33m=\u001b[0m\u001b[1;32mTrue\u001b[0m\u001b[1;33m)\u001b[0m\u001b[1;33m\u001b[0m\u001b[0m\n\u001b[0;32m      5\u001b[0m \u001b[0ms_precip\u001b[0m \u001b[1;33m=\u001b[0m \u001b[0mdf_precip\u001b[0m\u001b[1;33m[\u001b[0m\u001b[1;34m'rka150d0'\u001b[0m\u001b[1;33m]\u001b[0m       \u001b[1;31m# daily precipitaion in mm\u001b[0m\u001b[1;33m\u001b[0m\u001b[0m\n",
      "\u001b[1;32m~\\PycharmProjects\\python_scripts\\precipitation\\note_books\\load_precip_irrad_from_csv.py\u001b[0m in \u001b[0;36mprocess_LUZ_Precip\u001b[1;34m(csv_file)\u001b[0m\n\u001b[0;32m     49\u001b[0m     \u001b[0mdf\u001b[0m\u001b[1;33m[\u001b[0m\u001b[1;34m'time'\u001b[0m\u001b[1;33m]\u001b[0m \u001b[1;33m=\u001b[0m \u001b[0mpd\u001b[0m\u001b[1;33m.\u001b[0m\u001b[0mto_datetime\u001b[0m\u001b[1;33m(\u001b[0m\u001b[0mdf\u001b[0m\u001b[1;33m[\u001b[0m\u001b[1;34m'time'\u001b[0m\u001b[1;33m]\u001b[0m\u001b[1;33m,\u001b[0m \u001b[0mformat\u001b[0m\u001b[1;33m=\u001b[0m\u001b[1;34m'%Y%m%d'\u001b[0m\u001b[1;33m,\u001b[0m \u001b[0mutc\u001b[0m\u001b[1;33m=\u001b[0m\u001b[1;32mTrue\u001b[0m\u001b[1;33m)\u001b[0m\u001b[1;33m\u001b[0m\u001b[0m\n\u001b[0;32m     50\u001b[0m     \u001b[1;31m#df['time'] = df['time'].dt.tz_localize('UTC')          # PC_Home auskommentieren\u001b[0m\u001b[1;33m\u001b[0m\u001b[1;33m\u001b[0m\u001b[0m\n\u001b[1;32m---> 51\u001b[1;33m     \u001b[0mdf\u001b[0m\u001b[1;33m[\u001b[0m\u001b[1;34m'time'\u001b[0m\u001b[1;33m]\u001b[0m \u001b[1;33m=\u001b[0m \u001b[0mdf\u001b[0m\u001b[1;33m[\u001b[0m\u001b[1;34m'time'\u001b[0m\u001b[1;33m]\u001b[0m\u001b[1;33m.\u001b[0m\u001b[0mdt\u001b[0m\u001b[1;33m.\u001b[0m\u001b[0mtz_convert\u001b[0m\u001b[1;33m(\u001b[0m\u001b[1;34m'Europe/Zurich'\u001b[0m\u001b[1;33m)\u001b[0m  \u001b[1;31m# converted to central europe time respecting daylight saving\u001b[0m\u001b[1;33m\u001b[0m\u001b[0m\n\u001b[0m\u001b[0;32m     52\u001b[0m     \u001b[0mdf\u001b[0m\u001b[1;33m.\u001b[0m\u001b[0mrename\u001b[0m\u001b[1;33m(\u001b[0m\u001b[0mcolumns\u001b[0m\u001b[1;33m=\u001b[0m\u001b[1;33m{\u001b[0m\u001b[1;34m'time'\u001b[0m\u001b[1;33m:\u001b[0m \u001b[1;34m'datetime'\u001b[0m\u001b[1;33m}\u001b[0m\u001b[1;33m,\u001b[0m \u001b[0minplace\u001b[0m\u001b[1;33m=\u001b[0m\u001b[1;32mTrue\u001b[0m\u001b[1;33m)\u001b[0m\u001b[1;33m\u001b[0m\u001b[0m\n\u001b[0;32m     53\u001b[0m     \u001b[0mdf\u001b[0m\u001b[1;33m[\u001b[0m\u001b[1;34m'rka150d0'\u001b[0m\u001b[1;33m]\u001b[0m \u001b[1;33m=\u001b[0m \u001b[0mpd\u001b[0m\u001b[1;33m.\u001b[0m\u001b[0mto_numeric\u001b[0m\u001b[1;33m(\u001b[0m\u001b[0mdf\u001b[0m\u001b[1;33m[\u001b[0m\u001b[1;34m'rka150d0'\u001b[0m\u001b[1;33m]\u001b[0m\u001b[1;33m,\u001b[0m \u001b[0merrors\u001b[0m\u001b[1;33m=\u001b[0m\u001b[1;34m'coerce'\u001b[0m\u001b[1;33m)\u001b[0m\u001b[1;33m\u001b[0m\u001b[0m\n",
      "\u001b[1;32m~\\AppData\\Local\\conda\\conda\\envs\\skycam\\lib\\site-packages\\pandas\\core\\base.py\u001b[0m in \u001b[0;36mf\u001b[1;34m(self, *args, **kwargs)\u001b[0m\n\u001b[0;32m    209\u001b[0m \u001b[1;33m\u001b[0m\u001b[0m\n\u001b[0;32m    210\u001b[0m             \u001b[1;32mdef\u001b[0m \u001b[0mf\u001b[0m\u001b[1;33m(\u001b[0m\u001b[0mself\u001b[0m\u001b[1;33m,\u001b[0m \u001b[1;33m*\u001b[0m\u001b[0margs\u001b[0m\u001b[1;33m,\u001b[0m \u001b[1;33m**\u001b[0m\u001b[0mkwargs\u001b[0m\u001b[1;33m)\u001b[0m\u001b[1;33m:\u001b[0m\u001b[1;33m\u001b[0m\u001b[0m\n\u001b[1;32m--> 211\u001b[1;33m                 \u001b[1;32mreturn\u001b[0m \u001b[0mself\u001b[0m\u001b[1;33m.\u001b[0m\u001b[0m_delegate_method\u001b[0m\u001b[1;33m(\u001b[0m\u001b[0mname\u001b[0m\u001b[1;33m,\u001b[0m \u001b[1;33m*\u001b[0m\u001b[0margs\u001b[0m\u001b[1;33m,\u001b[0m \u001b[1;33m**\u001b[0m\u001b[0mkwargs\u001b[0m\u001b[1;33m)\u001b[0m\u001b[1;33m\u001b[0m\u001b[0m\n\u001b[0m\u001b[0;32m    212\u001b[0m \u001b[1;33m\u001b[0m\u001b[0m\n\u001b[0;32m    213\u001b[0m             \u001b[0mf\u001b[0m\u001b[1;33m.\u001b[0m\u001b[0m__name__\u001b[0m \u001b[1;33m=\u001b[0m \u001b[0mname\u001b[0m\u001b[1;33m\u001b[0m\u001b[0m\n",
      "\u001b[1;32m~\\AppData\\Local\\conda\\conda\\envs\\skycam\\lib\\site-packages\\pandas\\core\\indexes\\accessors.py\u001b[0m in \u001b[0;36m_delegate_method\u001b[1;34m(self, name, *args, **kwargs)\u001b[0m\n\u001b[0;32m    131\u001b[0m \u001b[1;33m\u001b[0m\u001b[0m\n\u001b[0;32m    132\u001b[0m         \u001b[0mmethod\u001b[0m \u001b[1;33m=\u001b[0m \u001b[0mgetattr\u001b[0m\u001b[1;33m(\u001b[0m\u001b[0mself\u001b[0m\u001b[1;33m.\u001b[0m\u001b[0mvalues\u001b[0m\u001b[1;33m,\u001b[0m \u001b[0mname\u001b[0m\u001b[1;33m)\u001b[0m\u001b[1;33m\u001b[0m\u001b[0m\n\u001b[1;32m--> 133\u001b[1;33m         \u001b[0mresult\u001b[0m \u001b[1;33m=\u001b[0m \u001b[0mmethod\u001b[0m\u001b[1;33m(\u001b[0m\u001b[1;33m*\u001b[0m\u001b[0margs\u001b[0m\u001b[1;33m,\u001b[0m \u001b[1;33m**\u001b[0m\u001b[0mkwargs\u001b[0m\u001b[1;33m)\u001b[0m\u001b[1;33m\u001b[0m\u001b[0m\n\u001b[0m\u001b[0;32m    134\u001b[0m \u001b[1;33m\u001b[0m\u001b[0m\n\u001b[0;32m    135\u001b[0m         \u001b[1;32mif\u001b[0m \u001b[1;32mnot\u001b[0m \u001b[0mis_list_like\u001b[0m\u001b[1;33m(\u001b[0m\u001b[0mresult\u001b[0m\u001b[1;33m)\u001b[0m\u001b[1;33m:\u001b[0m\u001b[1;33m\u001b[0m\u001b[0m\n",
      "\u001b[1;32m~\\AppData\\Local\\conda\\conda\\envs\\skycam\\lib\\site-packages\\pandas\\core\\indexes\\datetimes.py\u001b[0m in \u001b[0;36mtz_convert\u001b[1;34m(self, tz)\u001b[0m\n\u001b[0;32m   1782\u001b[0m         \u001b[1;32mif\u001b[0m \u001b[0mself\u001b[0m\u001b[1;33m.\u001b[0m\u001b[0mtz\u001b[0m \u001b[1;32mis\u001b[0m \u001b[1;32mNone\u001b[0m\u001b[1;33m:\u001b[0m\u001b[1;33m\u001b[0m\u001b[0m\n\u001b[0;32m   1783\u001b[0m             \u001b[1;31m# tz naive, use tz_localize\u001b[0m\u001b[1;33m\u001b[0m\u001b[1;33m\u001b[0m\u001b[0m\n\u001b[1;32m-> 1784\u001b[1;33m             raise TypeError('Cannot convert tz-naive timestamps, use '\n\u001b[0m\u001b[0;32m   1785\u001b[0m                             'tz_localize to localize')\n\u001b[0;32m   1786\u001b[0m \u001b[1;33m\u001b[0m\u001b[0m\n",
      "\u001b[1;31mTypeError\u001b[0m: Cannot convert tz-naive timestamps, use tz_localize to localize"
     ]
    }
   ],
   "source": [
    "luz_precip = r'../weather_data/precipitation_luz_2017_2018.csv'\n",
    "\n",
    "df_precip = process_LUZ_Precip(luz_precip)\n",
    "df_precip.set_index(df_precip.datetime, inplace=True)\n",
    "s_precip = df_precip['rka150d0']       # daily precipitaion in mm \n",
    "\n",
    "#df_precip.head(n=2)"
   ]
  },
  {
   "cell_type": "markdown",
   "metadata": {},
   "source": [
    "#### Import sunshine duration, relative to the absolute possible daily sum"
   ]
  },
  {
   "cell_type": "code",
   "execution_count": null,
   "metadata": {
    "collapsed": true
   },
   "outputs": [],
   "source": [
    "dur_csv = r'../weather_data/sunshine_duration_2017_2018.csv'\n",
    "\n",
    "df_rel_insol = process_LUZ_dur(dur_csv)\n",
    "df_rel_insol.set_index(df_rel_insol.datetime, inplace=True)\n",
    "df_rel_insol['sremaxdv'] = pd.to_numeric(df_rel_insol['sremaxdv'], errors='coerce')\n",
    "s_rel_insol = df_rel_insol['sremaxdv']          # in percent"
   ]
  },
  {
   "cell_type": "markdown",
   "metadata": {},
   "source": [
    "#### Precipitation and overlayed insolination 2017 from 11-01 to 12-31 near Lucern at Long: 8°18' Lat: 47°02'  "
   ]
  },
  {
   "cell_type": "code",
   "execution_count": null,
   "metadata": {},
   "outputs": [],
   "source": [
    "year  = '2017-'   \n",
    "s_day = '11-01' # beginning of observation\n",
    "e_day = '12-31' # end of observation\n",
    "start = year + s_day\n",
    "end   = year + e_day\n",
    "\n",
    "s_precip_17 = s_precip.loc[start:end]\n",
    "s_rel_insol_17 = s_rel_insol.loc[start:end]\n",
    "\n",
    "fig, ax = plt.subplots(figsize=(20,5))\n",
    "ax.bar(s_rel_insol_17.index, s_rel_insol_17.values, label='rel. Insolination', color= 'orange')\n",
    "ax.bar(s_precip_17.index, s_precip_17.values, label='Precipitation', color= 'blue')\n",
    "\n",
    "ax.set_xlabel('[Month Day]', fontsize=12)\n",
    "ax.set_ylabel('relative sunshine durration [%]', fontsize=12)\n",
    "ax.set_title('Sunshine duration in {} from {} to {}'.format(year.strip('-'),s_day,e_day))\n",
    "ax.legend(loc='upper left')\n",
    "ax.grid(b=None, which='major', axis='both')\n",
    "\n",
    "ax.xaxis.set_major_locator(mdates.WeekdayLocator())\n",
    "#ax.xaxis.set_major_locator(mdates.DayLocator())\n",
    "ax.xaxis.set_major_formatter(mdates.DateFormatter('%b %d'))\n",
    "fig.autofmt_xdate()"
   ]
  },
  {
   "cell_type": "markdown",
   "metadata": {},
   "source": [
    "#### Insolination and overlayed precipitation in 2017: 9.30 - 10.31"
   ]
  },
  {
   "cell_type": "code",
   "execution_count": null,
   "metadata": {},
   "outputs": [],
   "source": [
    "year  = '2017-'   \n",
    "s_day = '11-17' # beginning of observation\n",
    "e_day = '12-15' # end of observation\n",
    "start = year + s_day\n",
    "end   = year + e_day\n",
    "\n",
    "s_precip_17 = s_precip.loc[start:end]\n",
    "s_rel_insol_17 = s_rel_insol.loc[start:end]\n",
    "\n",
    "fig, ax = plt.subplots(figsize=(20,5))\n",
    "ax.bar(s_rel_insol_17.index, s_rel_insol_17.values, label='rel. Insolination', color= 'orange')\n",
    "ax.bar(s_precip_17.index, s_precip_17.values, label='Precipitation', color= 'blue')\n",
    "\n",
    "ax.set_xlabel('[Month Day]', fontsize=12)\n",
    "ax.set_ylabel('relative sunshine durration [%]', fontsize=12)\n",
    "ax.set_title('Sunshine duration in {} from {} to {}'.format(year.strip('-'),s_day,e_day))\n",
    "ax.legend(loc='upper left')\n",
    "ax.grid(b=None, which='major', axis='both')\n",
    "\n",
    "#ax.xaxis.set_major_locator(mdates.WeekdayLocator())\n",
    "ax.xaxis.set_major_locator(mdates.DayLocator())\n",
    "ax.xaxis.set_major_formatter(mdates.DateFormatter('%b %d'))\n",
    "fig.autofmt_xdate()"
   ]
  },
  {
   "cell_type": "markdown",
   "metadata": {},
   "source": [
    "#### Detail view 2018 January to March \n",
    "Remark: Time span where pyranometer data from HSLU is avaiable in 2018: from 1.01 to 3.01"
   ]
  },
  {
   "cell_type": "code",
   "execution_count": null,
   "metadata": {},
   "outputs": [],
   "source": [
    "year1  = '2017-'   \n",
    "year2  = '2018-'   \n",
    "s_day = '12-29' # beginning of observation\n",
    "e_day = '03-01' # end of observation\n",
    "start = year1 + s_day\n",
    "end   = year2 + e_day\n",
    "\n",
    "s_precip_18 = s_precip.loc[start:end]\n",
    "s_rel_insol_18 = s_rel_insol.loc[start:end]\n",
    "\n",
    "fig, ax = plt.subplots(figsize=(20,5))\n",
    "ax.bar(s_rel_insol_18.index, s_rel_insol_18.values, label='rel. Insolination', color= 'orange')\n",
    "ax.bar(s_precip_18.index, s_precip_18.values, label='Precipitation', color= 'blue')\n",
    "\n",
    "ax.set_xlabel('[Month Day]', fontsize=12)\n",
    "ax.set_ylabel('relative sunshine durration [%]', fontsize=12)\n",
    "ax.set_title('Sunshine duration in {} from {} to {}'.format(year2.strip('-'),s_day,e_day))\n",
    "ax.legend(loc='upper left')\n",
    "ax.grid(b=None, which='major', axis='both')\n",
    "\n",
    "ax.xaxis.set_major_locator(mdates.WeekdayLocator())\n",
    "#ax.xaxis.set_major_locator(mdates.DayLocator())\n",
    "ax.xaxis.set_major_formatter(mdates.DateFormatter('%b %d'))\n",
    "fig.autofmt_xdate()"
   ]
  },
  {
   "cell_type": "markdown",
   "metadata": {},
   "source": [
    "#### Detail view 2018 April to May"
   ]
  },
  {
   "cell_type": "code",
   "execution_count": null,
   "metadata": {},
   "outputs": [],
   "source": [
    "year  = '2018-'   \n",
    "s_day = '03-15' # beginning of observation\n",
    "e_day = '05-31' # end of observation\n",
    "start = year + s_day\n",
    "end   = year + e_day\n",
    "\n",
    "s_precip_4 = s_precip.loc[start:end]\n",
    "s_rel_4 = s_rel_insol.loc[start:end]\n",
    "\n",
    "fig, ax = plt.subplots(figsize=(20,5))\n",
    "ax.bar(s_rel_4.index, s_rel_4.values, label='rel. Insolination', color= 'orange')\n",
    "ax.bar(s_precip_4.index, s_precip_4.values, label='Precipitation', color= 'blue')\n",
    "\n",
    "ax.set_xlabel('[Month Day]', fontsize=12)\n",
    "ax.set_ylabel('relative sunshine durration [%]', fontsize=12)\n",
    "ax.set_title('Sunshine duration in {} from {} to {}'.format(year.strip('-'),s_day,e_day))\n",
    "ax.legend(loc='upper left')\n",
    "ax.grid(b=None, which='major', axis='both')\n",
    "\n",
    "ax.xaxis.set_major_locator(mdates.WeekdayLocator())\n",
    "#ax.xaxis.set_major_locator(mdates.DayLocator())\n",
    "ax.xaxis.set_major_formatter(mdates.DateFormatter('%b %d'))\n",
    "fig.autofmt_xdate()"
   ]
  },
  {
   "cell_type": "markdown",
   "metadata": {},
   "source": [
    "#### Detail view 2018 Jun to July"
   ]
  },
  {
   "cell_type": "code",
   "execution_count": null,
   "metadata": {},
   "outputs": [],
   "source": [
    "year  = '2018-'   \n",
    "s_day = '05-22' # beginning of observation\n",
    "e_day = '07-30' # end of observation\n",
    "start = year + s_day\n",
    "end   = year + e_day\n",
    "\n",
    "s_precip_5 = s_precip.loc[start:end]\n",
    "s_rel_5 = s_rel_insol.loc[start:end]\n",
    "\n",
    "fig, ax = plt.subplots(figsize=(20,5))\n",
    "ax.bar(s_rel_5.index, s_rel_5.values, label='rel. Insolination', color= 'orange')\n",
    "ax.bar(s_precip_5.index, s_precip_5.values, label='Precipitation', color= 'blue')\n",
    "\n",
    "ax.set_xlabel('[Month Day]', fontsize=12)\n",
    "ax.set_ylabel('relative sunshine durration [%]', fontsize=12)\n",
    "ax.set_title('Sunshine duration in {} from {} to {}'.format(year.strip('-'),s_day,e_day))\n",
    "ax.legend(loc='upper left')\n",
    "ax.grid(b=None, which='major', axis='both')\n",
    "\n",
    "ax.xaxis.set_major_locator(mdates.WeekdayLocator())\n",
    "#ax.xaxis.set_major_locator(mdates.DayLocator())\n",
    "ax.xaxis.set_major_formatter(mdates.DateFormatter('%b %d'))\n",
    "fig.autofmt_xdate()"
   ]
  },
  {
   "cell_type": "markdown",
   "metadata": {},
   "source": [
    "#### Detail view 2018 August to September"
   ]
  },
  {
   "cell_type": "code",
   "execution_count": null,
   "metadata": {},
   "outputs": [],
   "source": [
    "year  = '2018-'   \n",
    "s_day = '07-05' # beginning of observation\n",
    "e_day = '09-30' # end of observation\n",
    "start = year + s_day\n",
    "end   = year + e_day\n",
    "\n",
    "s_precip_6 = s_precip.loc[start:end]\n",
    "s_rel_6 = s_rel_insol.loc[start:end]\n",
    "\n",
    "fig, ax = plt.subplots(figsize=(20,5))\n",
    "ax.bar(s_rel_6.index, s_rel_6.values, label='rel. Insolination', color= 'orange')\n",
    "ax.bar(s_precip_6.index, s_precip_6.values, label='Precipitation', color= 'blue')\n",
    "\n",
    "ax.set_xlabel('[Month Day]', fontsize=12)\n",
    "ax.set_ylabel('relative sunshine durration [%]', fontsize=12)\n",
    "ax.set_title('Sunshine duration in {} from {} to {}'.format(year.strip('-'),s_day,e_day))\n",
    "ax.legend(loc='upper left')\n",
    "ax.grid(b=None, which='major', axis='both')\n",
    "\n",
    "ax.xaxis.set_major_locator(mdates.WeekdayLocator())\n",
    "#ax.xaxis.set_major_locator(mdates.DayLocator())\n",
    "ax.xaxis.set_major_formatter(mdates.DateFormatter('%b %d'))\n",
    "fig.autofmt_xdate()"
   ]
  },
  {
   "cell_type": "markdown",
   "metadata": {},
   "source": [
    "#### Detail view 2018 October "
   ]
  },
  {
   "cell_type": "code",
   "execution_count": null,
   "metadata": {},
   "outputs": [],
   "source": [
    "year  = '2018-'   \n",
    "s_day = '09-25' # beginning of observation\n",
    "e_day = '11-10' # end of observation\n",
    "start = year + s_day\n",
    "end   = year + e_day\n",
    "\n",
    "s_precip_7 = s_precip.loc[start:end]\n",
    "s_rel_7 = s_rel_insol.loc[start:end]\n",
    "\n",
    "fig, ax = plt.subplots(figsize=(20,5))\n",
    "ax.bar(s_rel_7.index, s_rel_7.values, label='rel. Insolination', color= 'orange')\n",
    "ax.bar(s_precip_7.index, s_precip_7.values, label='Precipitation', color= 'blue')\n",
    "\n",
    "ax.set_xlabel('[Month Day]', fontsize=12)\n",
    "ax.set_ylabel('relative sunshine durration [%]', fontsize=12)\n",
    "ax.set_title('Sunshine duration in {} from {} to {}'.format(year.strip('-'),s_day,e_day))\n",
    "ax.legend(loc='upper left')\n",
    "ax.grid(b=None, which='major', axis='both')\n",
    "\n",
    "ax.xaxis.set_major_locator(mdates.WeekdayLocator())\n",
    "#ax.xaxis.set_major_locator(mdates.DayLocator())\n",
    "ax.xaxis.set_major_formatter(mdates.DateFormatter('%b %d'))\n",
    "fig.autofmt_xdate()"
   ]
  },
  {
   "cell_type": "markdown",
   "metadata": {},
   "source": [
    "### Longest dry periodes in 2018\n",
    "21.06.2018 - 03.07.2018 -> 11 days<br>\n",
    "28.07.2018 - 08.08.2018 -> 11 days<br>\n",
    "10.02.2018 - 27.10.2018 -> 25 days<br>\n"
   ]
  }
 ],
 "metadata": {
  "kernelspec": {
   "display_name": "Python 3",
   "language": "python",
   "name": "python3"
  },
  "language_info": {
   "codemirror_mode": {
    "name": "ipython",
    "version": 3
   },
   "file_extension": ".py",
   "mimetype": "text/x-python",
   "name": "python",
   "nbconvert_exporter": "python",
   "pygments_lexer": "ipython3",
   "version": "3.6.2"
  }
 },
 "nbformat": 4,
 "nbformat_minor": 1
}
