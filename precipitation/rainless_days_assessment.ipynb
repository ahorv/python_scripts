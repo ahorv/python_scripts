{
 "cells": [
  {
   "cell_type": "markdown",
   "metadata": {
    "collapsed": true
   },
   "source": [
    "### Assessing suitable days: rainless days"
   ]
  },
  {
   "cell_type": "code",
   "execution_count": 1,
   "metadata": {},
   "outputs": [
    {
     "ename": "ModuleNotFoundError",
     "evalue": "No module named 'load_precip_irrad_from_csv'",
     "output_type": "error",
     "traceback": [
      "\u001b[1;31m---------------------------------------------------------------------------\u001b[0m",
      "\u001b[1;31mModuleNotFoundError\u001b[0m                       Traceback (most recent call last)",
      "\u001b[1;32m<ipython-input-1-b6a10b734e77>\u001b[0m in \u001b[0;36m<module>\u001b[1;34m()\u001b[0m\n\u001b[0;32m     12\u001b[0m \u001b[1;33m\u001b[0m\u001b[0m\n\u001b[0;32m     13\u001b[0m \u001b[1;31m# User defined functions\u001b[0m\u001b[1;33m\u001b[0m\u001b[1;33m\u001b[0m\u001b[0m\n\u001b[1;32m---> 14\u001b[1;33m \u001b[1;32mfrom\u001b[0m \u001b[0mload_precip_irrad_from_csv\u001b[0m \u001b[1;32mimport\u001b[0m \u001b[1;33m*\u001b[0m\u001b[1;33m\u001b[0m\u001b[0m\n\u001b[0m",
      "\u001b[1;31mModuleNotFoundError\u001b[0m: No module named 'load_precip_irrad_from_csv'"
     ]
    }
   ],
   "source": [
    "import matplotlib\n",
    "import numpy as np\n",
    "import matplotlib.dates as mdates\n",
    "import matplotlib.pyplot as plt\n",
    "#%matplotlib notebook\n",
    "%matplotlib inline\n",
    "import csv\n",
    "import bisect\n",
    "import datetime\n",
    "from scipy import interpolate\n",
    "from matplotlib.dates import DateFormatter\n",
    "\n",
    "# User defined functions\n",
    "from load_precip_irrad_from_csv import *"
   ]
  },
  {
   "cell_type": "markdown",
   "metadata": {},
   "source": [
    "#### Import Precipitation"
   ]
  },
  {
   "cell_type": "code",
   "execution_count": null,
   "metadata": {},
   "outputs": [],
   "source": [
    "luz_precip = r'../weather_data/precipitation_luz_2017_2018.csv'\n",
    "\n",
    "df_precip = process_LUZ_Precip(luz_precip)\n",
    "df_precip.set_index(df_precip.datetime, inplace=True)\n",
    "s_precip = df_precip['rka150d0']       # daily precipitaion in mm \n",
    "\n",
    "#df_precip.head(n=2)"
   ]
  },
  {
   "cell_type": "markdown",
   "metadata": {},
   "source": [
    "#### Import sunshine duration, relative to the absolute possible daily sum"
   ]
  },
  {
   "cell_type": "code",
   "execution_count": null,
   "metadata": {
    "collapsed": true
   },
   "outputs": [],
   "source": [
    "dur_csv = r'../weather_data/sunshine_duration_2017_2018.csv'\n",
    "\n",
    "df_rel_insol = process_LUZ_dur(dur_csv)\n",
    "df_rel_insol.set_index(df_rel_insol.datetime, inplace=True)\n",
    "df_rel_insol['sremaxdv'] = pd.to_numeric(df_rel_insol['sremaxdv'], errors='coerce')\n",
    "s_rel_insol = df_rel_insol['sremaxdv']          # in percent"
   ]
  },
  {
   "cell_type": "markdown",
   "metadata": {},
   "source": [
    "#### Precipitation and overlayed insolination 2017 from 11-17 to 12-31 near Lucern at Long: 8°18' Lat: 47°02'  \n",
    "Remarks: \n",
    "- Pictures from sky-cameras range from 2017 11.17 to 2018 11.13<br>\n",
    "- HSLU pyranometer data is avaiable from 2017 01.01 to 2018 01.03"
   ]
  },
  {
   "cell_type": "code",
   "execution_count": null,
   "metadata": {},
   "outputs": [],
   "source": [
    "year  = '2017-'   \n",
    "s_day = '11-17' # beginning of observation\n",
    "e_day = '12-31' # end of observation\n",
    "start = year + s_day\n",
    "end   = year + e_day\n",
    "\n",
    "s_precip_17 = s_precip.loc[start:end]\n",
    "s_rel_insol_17 = s_rel_insol.loc[start:end]\n",
    "\n",
    "fig, ax = plt.subplots(figsize=(20,5))\n",
    "ax.bar(s_rel_insol_17.index, s_rel_insol_17.values, label='rel. Insolination', color= 'orange')\n",
    "ax.bar(s_precip_17.index, s_precip_17.values, label='Precipitation', color= 'blue')\n",
    "\n",
    "ax.set_xlabel('[Month Day]', fontsize=12)\n",
    "ax.set_ylabel('relative sunshine durration [%]', fontsize=12)\n",
    "ax.set_title('Sunshine duration in {} from {} to {}'.format(year.strip('-'),s_day,e_day))\n",
    "ax.legend(loc='upper left')\n",
    "ax.grid(b=None, which='major', axis='both')\n",
    "\n",
    "ax.xaxis.set_major_locator(mdates.WeekdayLocator())\n",
    "#ax.xaxis.set_major_locator(mdates.DayLocator())\n",
    "ax.xaxis.set_major_formatter(mdates.DateFormatter('%b %d'))\n",
    "fig.autofmt_xdate()"
   ]
  },
  {
   "cell_type": "markdown",
   "metadata": {},
   "source": [
    "#### Insolination and overlayed precipitation in 2017: 9.30 - 10.31"
   ]
  },
  {
   "cell_type": "code",
   "execution_count": null,
   "metadata": {},
   "outputs": [],
   "source": [
    "year  = '2017-'   \n",
    "s_day = '11-17' # beginning of observation\n",
    "e_day = '12-15' # end of observation\n",
    "start = year + s_day\n",
    "end   = year + e_day\n",
    "\n",
    "s_precip_17 = s_precip.loc[start:end]\n",
    "s_rel_insol_17 = s_rel_insol.loc[start:end]\n",
    "\n",
    "fig, ax = plt.subplots(figsize=(20,5))\n",
    "ax.bar(s_rel_insol_17.index, s_rel_insol_17.values, label='rel. Insolination', color= 'orange')\n",
    "ax.bar(s_precip_17.index, s_precip_17.values, label='Precipitation', color= 'blue')\n",
    "\n",
    "ax.set_xlabel('[Month Day]', fontsize=12)\n",
    "ax.set_ylabel('relative sunshine durration [%]', fontsize=12)\n",
    "ax.set_title('Sunshine duration in {} from {} to {}'.format(year.strip('-'),s_day,e_day))\n",
    "ax.legend(loc='upper left')\n",
    "ax.grid(b=None, which='major', axis='both')\n",
    "\n",
    "#ax.xaxis.set_major_locator(mdates.WeekdayLocator())\n",
    "ax.xaxis.set_major_locator(mdates.DayLocator())\n",
    "ax.xaxis.set_major_formatter(mdates.DateFormatter('%b %d'))\n",
    "fig.autofmt_xdate()"
   ]
  },
  {
   "cell_type": "markdown",
   "metadata": {},
   "source": [
    "#### Detail view 2018 January to March \n",
    "Remark: Time span where pyranometer data from HSLU is avaiable in 2018: from 1.01 to 3.01"
   ]
  },
  {
   "cell_type": "code",
   "execution_count": null,
   "metadata": {},
   "outputs": [],
   "source": [
    "year  = '2018-'   \n",
    "s_day = '01-01' # beginning of observation\n",
    "e_day = '03-01' # end of observation\n",
    "start = year + s_day\n",
    "end   = year + e_day\n",
    "\n",
    "s_precip_18 = s_precip.loc[start:end]\n",
    "s_rel_insol_18 = s_rel_insol.loc[start:end]\n",
    "\n",
    "fig, ax = plt.subplots(figsize=(20,5))\n",
    "ax.bar(s_rel_insol_18.index, s_rel_insol_18.values, label='rel. Insolination', color= 'orange')\n",
    "ax.bar(s_precip_18.index, s_precip_18.values, label='Precipitation', color= 'blue')\n",
    "\n",
    "ax.set_xlabel('[Month Day]', fontsize=12)\n",
    "ax.set_ylabel('relative sunshine durration [%]', fontsize=12)\n",
    "ax.set_title('Sunshine duration in {} from {} to {}'.format(year.strip('-'),s_day,e_day))\n",
    "ax.legend(loc='upper left')\n",
    "ax.grid(b=None, which='major', axis='both')\n",
    "\n",
    "ax.xaxis.set_major_locator(mdates.WeekdayLocator())\n",
    "#ax.xaxis.set_major_locator(mdates.DayLocator())\n",
    "ax.xaxis.set_major_formatter(mdates.DateFormatter('%b %d'))\n",
    "fig.autofmt_xdate()"
   ]
  },
  {
   "cell_type": "markdown",
   "metadata": {},
   "source": [
    "#### Detail view 2018 April to May"
   ]
  },
  {
   "cell_type": "code",
   "execution_count": null,
   "metadata": {},
   "outputs": [],
   "source": [
    "year  = '2018-'   \n",
    "s_day = '03-15' # beginning of observation\n",
    "e_day = '05-31' # end of observation\n",
    "start = year + s_day\n",
    "end   = year + e_day\n",
    "\n",
    "s_precip_4 = s_precip.loc[start:end]\n",
    "s_rel_4 = s_rel_insol.loc[start:end]\n",
    "\n",
    "fig, ax = plt.subplots(figsize=(20,5))\n",
    "ax.bar(s_rel_4.index, s_rel_4.values, label='rel. Insolination', color= 'orange')\n",
    "ax.bar(s_precip_4.index, s_precip_4.values, label='Precipitation', color= 'blue')\n",
    "\n",
    "ax.set_xlabel('[Month Day]', fontsize=12)\n",
    "ax.set_ylabel('relative sunshine durration [%]', fontsize=12)\n",
    "ax.set_title('Sunshine duration in {} from {} to {}'.format(year.strip('-'),s_day,e_day))\n",
    "ax.legend(loc='upper left')\n",
    "ax.grid(b=None, which='major', axis='both')\n",
    "\n",
    "ax.xaxis.set_major_locator(mdates.WeekdayLocator())\n",
    "#ax.xaxis.set_major_locator(mdates.DayLocator())\n",
    "ax.xaxis.set_major_formatter(mdates.DateFormatter('%b %d'))\n",
    "fig.autofmt_xdate()"
   ]
  },
  {
   "cell_type": "markdown",
   "metadata": {},
   "source": [
    "#### Detail view 2018 Jun to July"
   ]
  },
  {
   "cell_type": "code",
   "execution_count": null,
   "metadata": {},
   "outputs": [],
   "source": [
    "year  = '2018-'   \n",
    "s_day = '05-22' # beginning of observation\n",
    "e_day = '07-30' # end of observation\n",
    "start = year + s_day\n",
    "end   = year + e_day\n",
    "\n",
    "s_precip_5 = s_precip.loc[start:end]\n",
    "s_rel_5 = s_rel_insol.loc[start:end]\n",
    "\n",
    "fig, ax = plt.subplots(figsize=(20,5))\n",
    "ax.bar(s_rel_5.index, s_rel_5.values, label='rel. Insolination', color= 'orange')\n",
    "ax.bar(s_precip_5.index, s_precip_5.values, label='Precipitation', color= 'blue')\n",
    "\n",
    "ax.set_xlabel('[Month Day]', fontsize=12)\n",
    "ax.set_ylabel('relative sunshine durration [%]', fontsize=12)\n",
    "ax.set_title('Sunshine duration in {} from {} to {}'.format(year.strip('-'),s_day,e_day))\n",
    "ax.legend(loc='upper left')\n",
    "ax.grid(b=None, which='major', axis='both')\n",
    "\n",
    "ax.xaxis.set_major_locator(mdates.WeekdayLocator())\n",
    "#ax.xaxis.set_major_locator(mdates.DayLocator())\n",
    "ax.xaxis.set_major_formatter(mdates.DateFormatter('%b %d'))\n",
    "fig.autofmt_xdate()"
   ]
  },
  {
   "cell_type": "markdown",
   "metadata": {},
   "source": [
    "#### Detail view 2018 August to September"
   ]
  },
  {
   "cell_type": "code",
   "execution_count": null,
   "metadata": {},
   "outputs": [],
   "source": [
    "year  = '2018-'   \n",
    "s_day = '07-05' # beginning of observation\n",
    "e_day = '09-30' # end of observation\n",
    "start = year + s_day\n",
    "end   = year + e_day\n",
    "\n",
    "s_precip_6 = s_precip.loc[start:end]\n",
    "s_rel_6 = s_rel_insol.loc[start:end]\n",
    "\n",
    "fig, ax = plt.subplots(figsize=(20,5))\n",
    "ax.bar(s_rel_6.index, s_rel_6.values, label='rel. Insolination', color= 'orange')\n",
    "ax.bar(s_precip_6.index, s_precip_6.values, label='Precipitation', color= 'blue')\n",
    "\n",
    "ax.set_xlabel('[Month Day]', fontsize=12)\n",
    "ax.set_ylabel('relative sunshine durration [%]', fontsize=12)\n",
    "ax.set_title('Sunshine duration in {} from {} to {}'.format(year.strip('-'),s_day,e_day))\n",
    "ax.legend(loc='upper left')\n",
    "ax.grid(b=None, which='major', axis='both')\n",
    "\n",
    "ax.xaxis.set_major_locator(mdates.WeekdayLocator())\n",
    "#ax.xaxis.set_major_locator(mdates.DayLocator())\n",
    "ax.xaxis.set_major_formatter(mdates.DateFormatter('%b %d'))\n",
    "fig.autofmt_xdate()"
   ]
  },
  {
   "cell_type": "markdown",
   "metadata": {},
   "source": [
    "#### Detail view 2018 October "
   ]
  },
  {
   "cell_type": "code",
   "execution_count": null,
   "metadata": {},
   "outputs": [],
   "source": [
    "year  = '2018-'   \n",
    "s_day = '09-25' # beginning of observation\n",
    "e_day = '11-10' # end of observation\n",
    "start = year + s_day\n",
    "end   = year + e_day\n",
    "\n",
    "s_precip_7 = s_precip.loc[start:end]\n",
    "s_rel_7 = s_rel_insol.loc[start:end]\n",
    "\n",
    "fig, ax = plt.subplots(figsize=(20,5))\n",
    "ax.bar(s_rel_7.index, s_rel_7.values, label='rel. Insolination', color= 'orange')\n",
    "ax.bar(s_precip_7.index, s_precip_7.values, label='Precipitation', color= 'blue')\n",
    "\n",
    "ax.set_xlabel('[Month Day]', fontsize=12)\n",
    "ax.set_ylabel('relative sunshine durration [%]', fontsize=12)\n",
    "ax.set_title('Sunshine duration in {} from {} to {}'.format(year.strip('-'),s_day,e_day))\n",
    "ax.legend(loc='upper left')\n",
    "ax.grid(b=None, which='major', axis='both')\n",
    "\n",
    "ax.xaxis.set_major_locator(mdates.WeekdayLocator())\n",
    "#ax.xaxis.set_major_locator(mdates.DayLocator())\n",
    "ax.xaxis.set_major_formatter(mdates.DateFormatter('%b %d'))\n",
    "fig.autofmt_xdate()"
   ]
  },
  {
   "cell_type": "markdown",
   "metadata": {},
   "source": [
    "### Longest dry periodes in 2018\n",
    "21.06.2018 - 03.07.2018 -> 11 days<br>\n",
    "28.07.2018 - 08.08.2018 -> 11 days<br>\n",
    "10.02.2018 - 27.10.2018 -> 25 days<br>\n"
   ]
  }
 ],
 "metadata": {
  "kernelspec": {
   "display_name": "Python 3",
   "language": "python",
   "name": "python3"
  },
  "language_info": {
   "codemirror_mode": {
    "name": "ipython",
    "version": 3
   },
   "file_extension": ".py",
   "mimetype": "text/x-python",
   "name": "python",
   "nbconvert_exporter": "python",
   "pygments_lexer": "ipython3",
   "version": "3.6.2"
  }
 },
 "nbformat": 4,
 "nbformat_minor": 1
}
